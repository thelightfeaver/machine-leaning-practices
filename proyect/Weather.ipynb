{
 "cells": [
  {
   "cell_type": "code",
   "execution_count": 2,
   "metadata": {},
   "outputs": [
    {
     "name": "stdout",
     "output_type": "stream",
     "text": [
      "Requirement already satisfied: pandas in c:\\users\\diogenes monegro\\appdata\\local\\programs\\python\\python311\\lib\\site-packages (2.2.2)\n",
      "Requirement already satisfied: numpy>=1.23.2 in c:\\users\\diogenes monegro\\appdata\\local\\programs\\python\\python311\\lib\\site-packages (from pandas) (1.26.0)\n",
      "Requirement already satisfied: python-dateutil>=2.8.2 in c:\\users\\diogenes monegro\\appdata\\roaming\\python\\python311\\site-packages (from pandas) (2.8.2)\n",
      "Requirement already satisfied: pytz>=2020.1 in c:\\users\\diogenes monegro\\appdata\\local\\programs\\python\\python311\\lib\\site-packages (from pandas) (2023.3.post1)\n",
      "Requirement already satisfied: tzdata>=2022.7 in c:\\users\\diogenes monegro\\appdata\\local\\programs\\python\\python311\\lib\\site-packages (from pandas) (2023.3)\n",
      "Requirement already satisfied: six>=1.5 in c:\\users\\diogenes monegro\\appdata\\local\\programs\\python\\python311\\lib\\site-packages (from python-dateutil>=2.8.2->pandas) (1.16.0)\n",
      "Note: you may need to restart the kernel to use updated packages.\n",
      "Requirement already satisfied: scikit-learn in c:\\users\\diogenes monegro\\appdata\\local\\programs\\python\\python311\\lib\\site-packages (1.5.2)\n",
      "Requirement already satisfied: numpy>=1.19.5 in c:\\users\\diogenes monegro\\appdata\\local\\programs\\python\\python311\\lib\\site-packages (from scikit-learn) (1.26.0)\n",
      "Requirement already satisfied: scipy>=1.6.0 in c:\\users\\diogenes monegro\\appdata\\local\\programs\\python\\python311\\lib\\site-packages (from scikit-learn) (1.11.3)\n",
      "Requirement already satisfied: joblib>=1.2.0 in c:\\users\\diogenes monegro\\appdata\\local\\programs\\python\\python311\\lib\\site-packages (from scikit-learn) (1.3.2)\n",
      "Requirement already satisfied: threadpoolctl>=3.1.0 in c:\\users\\diogenes monegro\\appdata\\local\\programs\\python\\python311\\lib\\site-packages (from scikit-learn) (3.2.0)\n",
      "Note: you may need to restart the kernel to use updated packages.\n",
      "Note: you may need to restart the kernel to use updated packages.\n"
     ]
    },
    {
     "name": "stderr",
     "output_type": "stream",
     "text": [
      "ERROR: Could not find a version that satisfies the requirement request (from versions: none)\n",
      "ERROR: No matching distribution found for request\n"
     ]
    },
    {
     "name": "stdout",
     "output_type": "stream",
     "text": [
      "Requirement already satisfied: matplotlib in c:\\users\\diogenes monegro\\appdata\\local\\programs\\python\\python311\\lib\\site-packages (3.8.0)Note: you may need to restart the kernel to use updated packages.\n",
      "\n",
      "Requirement already satisfied: contourpy>=1.0.1 in c:\\users\\diogenes monegro\\appdata\\local\\programs\\python\\python311\\lib\\site-packages (from matplotlib) (1.1.1)\n",
      "Requirement already satisfied: cycler>=0.10 in c:\\users\\diogenes monegro\\appdata\\local\\programs\\python\\python311\\lib\\site-packages (from matplotlib) (0.11.0)\n",
      "Requirement already satisfied: fonttools>=4.22.0 in c:\\users\\diogenes monegro\\appdata\\local\\programs\\python\\python311\\lib\\site-packages (from matplotlib) (4.42.1)\n",
      "Requirement already satisfied: kiwisolver>=1.0.1 in c:\\users\\diogenes monegro\\appdata\\local\\programs\\python\\python311\\lib\\site-packages (from matplotlib) (1.4.5)\n",
      "Requirement already satisfied: numpy<2,>=1.21 in c:\\users\\diogenes monegro\\appdata\\local\\programs\\python\\python311\\lib\\site-packages (from matplotlib) (1.26.0)\n",
      "Requirement already satisfied: packaging>=20.0 in c:\\users\\diogenes monegro\\appdata\\local\\programs\\python\\python311\\lib\\site-packages (from matplotlib) (23.1)\n",
      "Requirement already satisfied: pillow>=6.2.0 in c:\\users\\diogenes monegro\\appdata\\local\\programs\\python\\python311\\lib\\site-packages (from matplotlib) (10.0.1)\n",
      "Requirement already satisfied: pyparsing>=2.3.1 in c:\\users\\diogenes monegro\\appdata\\local\\programs\\python\\python311\\lib\\site-packages (from matplotlib) (3.1.1)\n",
      "Requirement already satisfied: python-dateutil>=2.7 in c:\\users\\diogenes monegro\\appdata\\roaming\\python\\python311\\site-packages (from matplotlib) (2.8.2)\n",
      "Requirement already satisfied: six>=1.5 in c:\\users\\diogenes monegro\\appdata\\local\\programs\\python\\python311\\lib\\site-packages (from python-dateutil>=2.7->matplotlib) (1.16.0)\n",
      "Requirement already satisfied: numpy in c:\\users\\diogenes monegro\\appdata\\local\\programs\\python\\python311\\lib\\site-packages (1.26.0)\n",
      "Note: you may need to restart the kernel to use updated packages.\n",
      "Requirement already satisfied: joblib in c:\\users\\diogenes monegro\\appdata\\local\\programs\\python\\python311\\lib\\site-packages (1.3.2)\n",
      "Note: you may need to restart the kernel to use updated packages.\n"
     ]
    }
   ],
   "source": [
    "# Install all the required libraries\n",
    "%pip install pandas\n",
    "%pip install scikit-learn\n",
    "%pip install request\n",
    "%pip install matplotlib\n",
    "%pip install numpy\n",
    "%pip install joblib"
   ]
  },
  {
   "cell_type": "code",
   "execution_count": 3,
   "metadata": {},
   "outputs": [],
   "source": [
    "import pandas as pd\n",
    "\n",
    "# Read the csv file\n",
    "df = pd.read_csv(\"../datasets/weather.csv\")"
   ]
  },
  {
   "cell_type": "code",
   "execution_count": 4,
   "metadata": {
    "tags": [
     "parameters"
    ]
   },
   "outputs": [
    {
     "name": "stdout",
     "output_type": "stream",
     "text": [
      "Weather\n",
      "Mainly Clear                               2106\n",
      "Mostly Cloudy                              2069\n",
      "Cloudy                                     1728\n",
      "Clear                                      1326\n",
      "Snow                                        390\n",
      "Rain                                        306\n",
      "Rain Showers                                188\n",
      "Fog                                         150\n",
      "Rain,Fog                                    116\n",
      "Drizzle,Fog                                  80\n",
      "Snow Showers                                 60\n",
      "Drizzle                                      41\n",
      "Snow,Fog                                     37\n",
      "Snow,Blowing Snow                            19\n",
      "Rain,Snow                                    18\n",
      "Thunderstorms,Rain Showers                   16\n",
      "Haze                                         16\n",
      "Drizzle,Snow,Fog                             15\n",
      "Freezing Rain                                14\n",
      "Freezing Drizzle,Snow                        11\n",
      "Freezing Drizzle                              7\n",
      "Snow,Ice Pellets                              6\n",
      "Freezing Drizzle,Fog                          6\n",
      "Snow,Haze                                     5\n",
      "Freezing Fog                                  4\n",
      "Snow Showers,Fog                              4\n",
      "Moderate Snow                                 4\n",
      "Rain,Snow,Ice Pellets                         4\n",
      "Freezing Rain,Fog                             4\n",
      "Freezing Drizzle,Haze                         3\n",
      "Rain,Haze                                     3\n",
      "Thunderstorms,Rain                            3\n",
      "Thunderstorms,Rain Showers,Fog                3\n",
      "Freezing Rain,Haze                            2\n",
      "Drizzle,Snow                                  2\n",
      "Rain Showers,Snow Showers                     2\n",
      "Thunderstorms                                 2\n",
      "Moderate Snow,Blowing Snow                    2\n",
      "Rain Showers,Fog                              1\n",
      "Thunderstorms,Moderate Rain Showers,Fog       1\n",
      "Snow Pellets                                  1\n",
      "Rain,Snow,Fog                                 1\n",
      "Moderate Rain,Fog                             1\n",
      "Freezing Rain,Ice Pellets,Fog                 1\n",
      "Drizzle,Ice Pellets,Fog                       1\n",
      "Thunderstorms,Rain,Fog                        1\n",
      "Rain,Ice Pellets                              1\n",
      "Rain,Snow Grains                              1\n",
      "Thunderstorms,Heavy Rain Showers              1\n",
      "Freezing Rain,Snow Grains                     1\n",
      "Name: count, dtype: int64\n"
     ]
    }
   ],
   "source": [
    "# Show quantity of each weather\n",
    "print(df[\"Weather\"].value_counts())"
   ]
  },
  {
   "cell_type": "code",
   "execution_count": 5,
   "metadata": {},
   "outputs": [
    {
     "data": {
      "text/html": [
       "<div>\n",
       "<style scoped>\n",
       "    .dataframe tbody tr th:only-of-type {\n",
       "        vertical-align: middle;\n",
       "    }\n",
       "\n",
       "    .dataframe tbody tr th {\n",
       "        vertical-align: top;\n",
       "    }\n",
       "\n",
       "    .dataframe thead th {\n",
       "        text-align: right;\n",
       "    }\n",
       "</style>\n",
       "<table border=\"1\" class=\"dataframe\">\n",
       "  <thead>\n",
       "    <tr style=\"text-align: right;\">\n",
       "      <th></th>\n",
       "      <th>Date/Time</th>\n",
       "      <th>Temp_C</th>\n",
       "      <th>Dew Point Temp_C</th>\n",
       "      <th>Rel Hum_%</th>\n",
       "      <th>Wind Speed_km/h</th>\n",
       "      <th>Visibility_km</th>\n",
       "      <th>Press_kPa</th>\n",
       "      <th>Weather</th>\n",
       "    </tr>\n",
       "  </thead>\n",
       "  <tbody>\n",
       "    <tr>\n",
       "      <th>0</th>\n",
       "      <td>1/1/2012 0:00</td>\n",
       "      <td>-1.8</td>\n",
       "      <td>-3.9</td>\n",
       "      <td>86</td>\n",
       "      <td>4</td>\n",
       "      <td>8.0</td>\n",
       "      <td>101.24</td>\n",
       "      <td>Fog</td>\n",
       "    </tr>\n",
       "    <tr>\n",
       "      <th>1</th>\n",
       "      <td>1/1/2012 1:00</td>\n",
       "      <td>-1.8</td>\n",
       "      <td>-3.7</td>\n",
       "      <td>87</td>\n",
       "      <td>4</td>\n",
       "      <td>8.0</td>\n",
       "      <td>101.24</td>\n",
       "      <td>Fog</td>\n",
       "    </tr>\n",
       "    <tr>\n",
       "      <th>2</th>\n",
       "      <td>1/1/2012 2:00</td>\n",
       "      <td>-1.8</td>\n",
       "      <td>-3.4</td>\n",
       "      <td>89</td>\n",
       "      <td>7</td>\n",
       "      <td>4.0</td>\n",
       "      <td>101.26</td>\n",
       "      <td>Freezing Drizzle,Fog</td>\n",
       "    </tr>\n",
       "    <tr>\n",
       "      <th>3</th>\n",
       "      <td>1/1/2012 3:00</td>\n",
       "      <td>-1.5</td>\n",
       "      <td>-3.2</td>\n",
       "      <td>88</td>\n",
       "      <td>6</td>\n",
       "      <td>4.0</td>\n",
       "      <td>101.27</td>\n",
       "      <td>Freezing Drizzle,Fog</td>\n",
       "    </tr>\n",
       "    <tr>\n",
       "      <th>4</th>\n",
       "      <td>1/1/2012 4:00</td>\n",
       "      <td>-1.5</td>\n",
       "      <td>-3.3</td>\n",
       "      <td>88</td>\n",
       "      <td>7</td>\n",
       "      <td>4.8</td>\n",
       "      <td>101.23</td>\n",
       "      <td>Fog</td>\n",
       "    </tr>\n",
       "  </tbody>\n",
       "</table>\n",
       "</div>"
      ],
      "text/plain": [
       "       Date/Time  Temp_C  Dew Point Temp_C  Rel Hum_%  Wind Speed_km/h  \\\n",
       "0  1/1/2012 0:00    -1.8              -3.9         86                4   \n",
       "1  1/1/2012 1:00    -1.8              -3.7         87                4   \n",
       "2  1/1/2012 2:00    -1.8              -3.4         89                7   \n",
       "3  1/1/2012 3:00    -1.5              -3.2         88                6   \n",
       "4  1/1/2012 4:00    -1.5              -3.3         88                7   \n",
       "\n",
       "   Visibility_km  Press_kPa               Weather  \n",
       "0            8.0     101.24                   Fog  \n",
       "1            8.0     101.24                   Fog  \n",
       "2            4.0     101.26  Freezing Drizzle,Fog  \n",
       "3            4.0     101.27  Freezing Drizzle,Fog  \n",
       "4            4.8     101.23                   Fog  "
      ]
     },
     "execution_count": 5,
     "metadata": {},
     "output_type": "execute_result"
    }
   ],
   "source": [
    "# show a resumen of dataframe\n",
    "df.head()"
   ]
  },
  {
   "cell_type": "code",
   "execution_count": 6,
   "metadata": {},
   "outputs": [],
   "source": [
    "# delete the column 'Date/Time'\n",
    "df = df.drop(columns=[\"Date/Time\"])"
   ]
  },
  {
   "cell_type": "code",
   "execution_count": 7,
   "metadata": {},
   "outputs": [
    {
     "data": {
      "text/plain": [
       "Index(['Temp', 'DewPoint', 'Humidity', 'WindSpeed', 'Visibility', 'Pressure',\n",
       "       'Weather'],\n",
       "      dtype='object')"
      ]
     },
     "execution_count": 7,
     "metadata": {},
     "output_type": "execute_result"
    }
   ],
   "source": [
    "# Rename the columns\n",
    "df = df.rename(\n",
    "    columns={\n",
    "        \"Temp_C\": \"Temp\",\n",
    "        \"Dew Point Temp_C\": \"DewPoint\",\n",
    "        \"Rel Hum_%\": \"Humidity\",\n",
    "        \"Wind Speed_km/h\": \"WindSpeed\",\n",
    "        \"Visibility_km\": \"Visibility\",\n",
    "        \"Press_kPa\": \"Pressure\",\n",
    "    }\n",
    ")\n",
    "\n",
    "# show columns\n",
    "df.columns"
   ]
  },
  {
   "cell_type": "code",
   "execution_count": 8,
   "metadata": {},
   "outputs": [
    {
     "name": "stdout",
     "output_type": "stream",
     "text": [
      "{'DewPoint': {'max': 24.4, 'min': -28.5},\n",
      " 'Humidity': {'max': 100, 'min': 18},\n",
      " 'Pressure': {'max': 103.65, 'min': 97.52},\n",
      " 'Temp': {'max': 33.0, 'min': -23.3},\n",
      " 'Visibility': {'max': 48.3, 'min': 0.2},\n",
      " 'WindSpeed': {'max': 83, 'min': 0}}\n"
     ]
    }
   ],
   "source": [
    "from pprint import pprint\n",
    "\n",
    "# Get the max and min of each column\n",
    "ls = [\"Temp\", \"DewPoint\", \"Humidity\", \"WindSpeed\", \"Visibility\", \"Pressure\"]\n",
    "data = {}\n",
    "\n",
    "for i in ls:\n",
    "    max = df[i].max()\n",
    "    min = df[i].min()\n",
    "\n",
    "    data[i] = {\"max\": max, \"min\": min}\n",
    "\n",
    "pprint(data)"
   ]
  },
  {
   "cell_type": "code",
   "execution_count": null,
   "metadata": {},
   "outputs": [],
   "source": []
  },
  {
   "cell_type": "code",
   "execution_count": 9,
   "metadata": {},
   "outputs": [],
   "source": [
    "# assign the values of the variables X and Y\n",
    "X = df.drop(\"Weather\", axis=1).values\n",
    "\n",
    "Y = df[\"Weather\"].values"
   ]
  },
  {
   "cell_type": "code",
   "execution_count": 10,
   "metadata": {},
   "outputs": [],
   "source": [
    "# split the data into training and testing sets\n",
    "from sklearn.model_selection import train_test_split\n",
    "\n",
    "X_train, X_test, Y_train, Y_test = train_test_split(\n",
    "    X, Y, test_size=0.2, random_state=42\n",
    ")"
   ]
  },
  {
   "cell_type": "code",
   "execution_count": 39,
   "metadata": {},
   "outputs": [
    {
     "name": "stderr",
     "output_type": "stream",
     "text": [
      "2024/10/22 12:07:43 WARNING mlflow.system_metrics.system_metrics_monitor: Skip logging GPU metrics because creating `GPUMonitor` failed with error: `pynvml` is not installed, to log GPU metrics please run `pip install pynvml` to install it..\n",
      "2024/10/22 12:07:43 INFO mlflow.system_metrics.system_metrics_monitor: Started monitoring system metrics.\n",
      "c:\\Users\\diogenes monegro\\AppData\\Local\\Programs\\Python\\Python311\\Lib\\site-packages\\mlflow\\types\\utils.py:407: UserWarning: Hint: Inferred schema contains integer column(s). Integer columns in Python cannot represent missing values. If your input data contains missing values at inference time, it will be encoded as floats and will cause a schema enforcement error. The best way to avoid this problem is to infer the model schema based on a realistic data sample (training dataset) that includes missing values. Alternatively, you can declare integer columns as doubles (float64) whenever these columns may have missing values. See `Handling Integers With Missing Values <https://www.mlflow.org/docs/latest/models.html#handling-integers-with-missing-values>`_ for more details.\n",
      "  warnings.warn(\n",
      "c:\\Users\\diogenes monegro\\AppData\\Local\\Programs\\Python\\Python311\\Lib\\site-packages\\sklearn\\model_selection\\_split.py:776: UserWarning: The least populated class in y has only 1 members, which is less than n_splits=5.\n",
      "  warnings.warn(\n"
     ]
    },
    {
     "name": "stdout",
     "output_type": "stream",
     "text": [
      "Fitting 5 folds for each of 60 candidates, totalling 300 fits\n"
     ]
    },
    {
     "name": "stderr",
     "output_type": "stream",
     "text": [
      "Registered model 'weather_model' already exists. Creating a new version of this model...\n",
      "2024/10/22 12:09:09 INFO mlflow.store.model_registry.abstract_store: Waiting up to 300 seconds for model version to finish creation. Model name: weather_model, version 2\n",
      "Created version '2' of model 'weather_model'.\n",
      "2024/10/22 12:09:09 INFO mlflow.tracking._tracking_service.client: 🏃 View run nimble-koi-826 at: http://localhost:5000/#/experiments/428261603326214060/runs/334d52277a4e426c923b7f02091075c3.\n",
      "2024/10/22 12:09:09 INFO mlflow.tracking._tracking_service.client: 🧪 View experiment at: http://localhost:5000/#/experiments/428261603326214060.\n",
      "2024/10/22 12:09:09 INFO mlflow.system_metrics.system_metrics_monitor: Stopping system metrics monitoring...\n",
      "2024/10/22 12:09:09 INFO mlflow.system_metrics.system_metrics_monitor: Successfully terminated system metrics monitoring!\n"
     ]
    }
   ],
   "source": [
    "from sklearn.model_selection import GridSearchCV\n",
    "from sklearn.preprocessing import StandardScaler, MinMaxScaler\n",
    "from sklearn.pipeline import Pipeline\n",
    "from sklearn.impute import SimpleImputer\n",
    "from sklearn.linear_model import LogisticRegression\n",
    "from sklearn.metrics import accuracy_score, confusion_matrix, f1_score\n",
    "\n",
    "import mlflow\n",
    "from mlflow.models.signature import infer_signature\n",
    "\n",
    "# Create a model and train it with logistic regression\n",
    "mlflow.set_tracking_uri(\"http://localhost:5000\")\n",
    "mlflow.set_experiment(\"weather\")\n",
    "\n",
    "with mlflow.start_run(log_system_metrics=True):\n",
    "    mlflow.log_input(mlflow.data.from_pandas(df), \"weather.csv\")\n",
    "\n",
    "    # Create a pipeline\n",
    "    pipeline = Pipeline(\n",
    "        steps=[\n",
    "            (\"imputer\", SimpleImputer(strategy=\"mean\")),\n",
    "            (\"scaler\", StandardScaler()),\n",
    "            (\"minmax\", MinMaxScaler()),\n",
    "            (\"logreg\", LogisticRegression()),\n",
    "        ]\n",
    "    )\n",
    "\n",
    "    params = [\n",
    "        # Solver newton-cg supports only dual=False, got dual=True\n",
    "        {\n",
    "            \"logreg__penalty\": [\"l2\"],\n",
    "            \"logreg__dual\": [False],\n",
    "            \"logreg__n_jobs\": [1, 10, 20, 25, 50, 100],\n",
    "            \"logreg__tol\": [0.0001],\n",
    "            \"logreg__C\": [1.0],\n",
    "            \"logreg__fit_intercept\": [True, False],\n",
    "            \"logreg__solver\": [\"newton-cg\"],\n",
    "        },\n",
    "        {\n",
    "            \"logreg__penalty\": [\"l2\"],\n",
    "            \"logreg__dual\": [False],\n",
    "            \"logreg__n_jobs\": [1, 10, 20, 25, 50, 100],\n",
    "            \"logreg__tol\": [0.0001],\n",
    "            \"logreg__C\": [1.0],\n",
    "            \"logreg__fit_intercept\": [True, False],\n",
    "            \"logreg__solver\": [\"newton-cholesky\", \"sag\"],\n",
    "        },\n",
    "         {\n",
    "            \"logreg__penalty\": [\"l2\"],\n",
    "            \"logreg__dual\": [False],\n",
    "            \"logreg__n_jobs\": [1, 10, 20, 25, 50, 100],\n",
    "            \"logreg__tol\": [0.0001],\n",
    "            \"logreg__C\": [1.0],\n",
    "            \"logreg__fit_intercept\": [True, False],\n",
    "            \"logreg__solver\": [\"lbfgs\"],\n",
    "        },\n",
    "        {\n",
    "            \"logreg__penalty\": [\"elasticnet\"],\n",
    "            \"logreg__dual\": [False],\n",
    "            \"logreg__n_jobs\": [1, 10, 20, 25, 50, 100],\n",
    "            \"logreg__tol\": [0.0001],\n",
    "            \"logreg__l1_ratio\": [0.5],\n",
    "            \"logreg__C\": [1.0],\n",
    "            \"logreg__fit_intercept\": [True, False],\n",
    "            \"logreg__solver\": [\"saga\"],\n",
    "        },\n",
    "    ]\n",
    "    p = GridSearchCV(pipeline, param_grid=params, cv=5, n_jobs=-1, verbose=1)\n",
    "\n",
    "    # Train the model\n",
    "    p.fit(X_train, Y_train)\n",
    "\n",
    "    # add the parameters to the model\n",
    "    for key, value in p.best_params_.items():\n",
    "        mlflow.log_param(key, value)\n",
    "\n",
    "    # add the metrics to the model\n",
    "    accuracy = accuracy_score(Y_test, p.predict(X_test))\n",
    "    conf_matrix = confusion_matrix(Y_test, p.predict(X_test))\n",
    "    f1 = f1_score(Y_test, p.predict(X_test), average=\"weighted\")\n",
    "\n",
    "    # add the metrics to the model\n",
    "    mlflow.log_metric(\"accuracy_score\", accuracy)\n",
    "    # mlflow.log_metric(\"confusion_matrix\", conf_matrix)\n",
    "    mlflow.log_metric(\"f1_score\", f1)\n",
    "\n",
    "    # add signature to the model\n",
    "    signature = infer_signature(X_train, p.predict(X_train))\n",
    "    model_info = mlflow.sklearn.log_model(\n",
    "        sk_model=p,\n",
    "        artifact_path=\"weather_model\",\n",
    "        signature=signature,\n",
    "        registered_model_name=\"weather_model\",\n",
    "    )\n",
    "    mlflow.log_artifact(\"../streamlit/model/weather.pkl\")"
   ]
  },
  {
   "cell_type": "code",
   "execution_count": 17,
   "metadata": {},
   "outputs": [
    {
     "name": "stdout",
     "output_type": "stream",
     "text": [
      "['Cloudy'] Mostly Cloudy\n"
     ]
    }
   ],
   "source": [
    "# Make predictions\n",
    "Y_pred = p.predict([X_test[0]])\n",
    "\n",
    "# Show the prediction\n",
    "print(Y_pred, Y_test[0])"
   ]
  },
  {
   "cell_type": "code",
   "execution_count": 18,
   "metadata": {},
   "outputs": [
    {
     "name": "stdout",
     "output_type": "stream",
     "text": [
      "Accuracy Score 0.38531587933978373\n",
      "Confusion Matrix:  [[ 92  34   0 ...   0   0   0]\n",
      " [ 50 143   0 ...   0   0   0]\n",
      " [  0   6   0 ...   0   0   0]\n",
      " ...\n",
      " [  0   0   0 ...   0   0   0]\n",
      " [  0   1   0 ...   0   0   0]\n",
      " [  0   0   0 ...   0   0   0]]\n",
      "F1 Score: 0.3672052023327009\n"
     ]
    }
   ],
   "source": [
    "# check accuracy of model\n",
    "print(\"Accuracy Score\", accuracy_score(Y_test, p.predict(X_test)))\n",
    "\n",
    "print(\"Confusion Matrix: \", confusion_matrix(Y_test, p.predict(X_test)))\n",
    "\n",
    "print(\"F1 Score:\", f1_score(Y_test, p.predict(X_test), average=\"weighted\"))"
   ]
  },
  {
   "cell_type": "code",
   "execution_count": 19,
   "metadata": {},
   "outputs": [
    {
     "data": {
      "text/plain": [
       "['../streamlit/model/weather.pkl']"
      ]
     },
     "execution_count": 19,
     "metadata": {},
     "output_type": "execute_result"
    }
   ],
   "source": [
    "# export the model\n",
    "import joblib\n",
    "\n",
    "joblib.dump(p, \"../streamlit/model/weather.pkl\")"
   ]
  }
 ],
 "metadata": {
  "kernelspec": {
   "display_name": "Python 3",
   "language": "python",
   "name": "python3"
  },
  "language_info": {
   "codemirror_mode": {
    "name": "ipython",
    "version": 3
   },
   "file_extension": ".py",
   "mimetype": "text/x-python",
   "name": "python",
   "nbconvert_exporter": "python",
   "pygments_lexer": "ipython3",
   "version": "3.13.1"
  },
  "orig_nbformat": 4
 },
 "nbformat": 4,
 "nbformat_minor": 2
}
