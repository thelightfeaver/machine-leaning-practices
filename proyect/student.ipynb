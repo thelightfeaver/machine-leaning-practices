{
 "cells": [
  {
   "cell_type": "code",
   "execution_count": 89,
   "metadata": {},
   "outputs": [
    {
     "name": "stdout",
     "output_type": "stream",
     "text": [
      "Requirement already satisfied: mlflow in c:\\users\\diogenes monegro\\appdata\\local\\programs\\python\\python311\\lib\\site-packages (2.19.0)\n",
      "Requirement already satisfied: mlflow-skinny==2.19.0 in c:\\users\\diogenes monegro\\appdata\\local\\programs\\python\\python311\\lib\\site-packages (from mlflow) (2.19.0)\n",
      "Requirement already satisfied: Flask<4 in c:\\users\\diogenes monegro\\appdata\\local\\programs\\python\\python311\\lib\\site-packages (from mlflow) (2.2.5)\n",
      "Requirement already satisfied: Jinja2<4,>=3.0 in c:\\users\\diogenes monegro\\appdata\\local\\programs\\python\\python311\\lib\\site-packages (from mlflow) (3.1.3)\n",
      "Requirement already satisfied: alembic!=1.10.0,<2 in c:\\users\\diogenes monegro\\appdata\\local\\programs\\python\\python311\\lib\\site-packages (from mlflow) (1.13.2)\n",
      "Requirement already satisfied: docker<8,>=4.0.0 in c:\\users\\diogenes monegro\\appdata\\local\\programs\\python\\python311\\lib\\site-packages (from mlflow) (7.1.0)\n",
      "Requirement already satisfied: graphene<4 in c:\\users\\diogenes monegro\\appdata\\local\\programs\\python\\python311\\lib\\site-packages (from mlflow) (3.3)\n",
      "Requirement already satisfied: markdown<4,>=3.3 in c:\\users\\diogenes monegro\\appdata\\local\\programs\\python\\python311\\lib\\site-packages (from mlflow) (3.7)\n",
      "Requirement already satisfied: matplotlib<4 in c:\\users\\diogenes monegro\\appdata\\local\\programs\\python\\python311\\lib\\site-packages (from mlflow) (3.8.0)\n",
      "Requirement already satisfied: numpy<3 in c:\\users\\diogenes monegro\\appdata\\local\\programs\\python\\python311\\lib\\site-packages (from mlflow) (1.26.0)\n",
      "Requirement already satisfied: pandas<3 in c:\\users\\diogenes monegro\\appdata\\local\\programs\\python\\python311\\lib\\site-packages (from mlflow) (2.2.2)\n",
      "Requirement already satisfied: pyarrow<19,>=4.0.0 in c:\\users\\diogenes monegro\\appdata\\local\\programs\\python\\python311\\lib\\site-packages (from mlflow) (15.0.1)\n",
      "Requirement already satisfied: scikit-learn<2 in c:\\users\\diogenes monegro\\appdata\\local\\programs\\python\\python311\\lib\\site-packages (from mlflow) (1.5.2)\n",
      "Requirement already satisfied: scipy<2 in c:\\users\\diogenes monegro\\appdata\\local\\programs\\python\\python311\\lib\\site-packages (from mlflow) (1.11.3)\n",
      "Requirement already satisfied: sqlalchemy<3,>=1.4.0 in c:\\users\\diogenes monegro\\appdata\\local\\programs\\python\\python311\\lib\\site-packages (from mlflow) (1.4.54)\n",
      "Requirement already satisfied: waitress<4 in c:\\users\\diogenes monegro\\appdata\\local\\programs\\python\\python311\\lib\\site-packages (from mlflow) (3.0.0)\n",
      "Requirement already satisfied: cachetools<6,>=5.0.0 in c:\\users\\diogenes monegro\\appdata\\local\\programs\\python\\python311\\lib\\site-packages (from mlflow-skinny==2.19.0->mlflow) (5.3.3)\n",
      "Requirement already satisfied: click<9,>=7.0 in c:\\users\\diogenes monegro\\appdata\\local\\programs\\python\\python311\\lib\\site-packages (from mlflow-skinny==2.19.0->mlflow) (8.1.7)\n",
      "Requirement already satisfied: cloudpickle<4 in c:\\users\\diogenes monegro\\appdata\\local\\programs\\python\\python311\\lib\\site-packages (from mlflow-skinny==2.19.0->mlflow) (3.0.0)\n",
      "Requirement already satisfied: databricks-sdk<1,>=0.20.0 in c:\\users\\diogenes monegro\\appdata\\local\\programs\\python\\python311\\lib\\site-packages (from mlflow-skinny==2.19.0->mlflow) (0.31.1)\n",
      "Requirement already satisfied: gitpython<4,>=3.1.9 in c:\\users\\diogenes monegro\\appdata\\local\\programs\\python\\python311\\lib\\site-packages (from mlflow-skinny==2.19.0->mlflow) (3.1.42)\n",
      "Requirement already satisfied: importlib_metadata!=4.7.0,<9,>=3.7.0 in c:\\users\\diogenes monegro\\appdata\\local\\programs\\python\\python311\\lib\\site-packages (from mlflow-skinny==2.19.0->mlflow) (6.8.0)\n",
      "Requirement already satisfied: opentelemetry-api<3,>=1.9.0 in c:\\users\\diogenes monegro\\appdata\\local\\programs\\python\\python311\\lib\\site-packages (from mlflow-skinny==2.19.0->mlflow) (1.29.0)\n",
      "Requirement already satisfied: opentelemetry-sdk<3,>=1.9.0 in c:\\users\\diogenes monegro\\appdata\\local\\programs\\python\\python311\\lib\\site-packages (from mlflow-skinny==2.19.0->mlflow) (1.29.0)\n",
      "Requirement already satisfied: packaging<25 in c:\\users\\diogenes monegro\\appdata\\local\\programs\\python\\python311\\lib\\site-packages (from mlflow-skinny==2.19.0->mlflow) (23.1)\n",
      "Requirement already satisfied: protobuf<6,>=3.12.0 in c:\\users\\diogenes monegro\\appdata\\local\\programs\\python\\python311\\lib\\site-packages (from mlflow-skinny==2.19.0->mlflow) (5.29.2)\n",
      "Requirement already satisfied: pyyaml<7,>=5.1 in c:\\users\\diogenes monegro\\appdata\\local\\programs\\python\\python311\\lib\\site-packages (from mlflow-skinny==2.19.0->mlflow) (6.0.1)\n",
      "Requirement already satisfied: requests<3,>=2.17.3 in c:\\users\\diogenes monegro\\appdata\\local\\programs\\python\\python311\\lib\\site-packages (from mlflow-skinny==2.19.0->mlflow) (2.31.0)\n",
      "Requirement already satisfied: sqlparse<1,>=0.4.0 in c:\\users\\diogenes monegro\\appdata\\local\\programs\\python\\python311\\lib\\site-packages (from mlflow-skinny==2.19.0->mlflow) (0.5.1)\n",
      "Requirement already satisfied: Mako in c:\\users\\diogenes monegro\\appdata\\local\\programs\\python\\python311\\lib\\site-packages (from alembic!=1.10.0,<2->mlflow) (1.3.5)\n",
      "Requirement already satisfied: typing-extensions>=4 in c:\\users\\diogenes monegro\\appdata\\local\\programs\\python\\python311\\lib\\site-packages (from alembic!=1.10.0,<2->mlflow) (4.10.0)\n",
      "Requirement already satisfied: pywin32>=304 in c:\\users\\diogenes monegro\\appdata\\roaming\\python\\python311\\site-packages (from docker<8,>=4.0.0->mlflow) (306)\n",
      "Requirement already satisfied: urllib3>=1.26.0 in c:\\users\\diogenes monegro\\appdata\\local\\programs\\python\\python311\\lib\\site-packages (from docker<8,>=4.0.0->mlflow) (1.26.16)\n",
      "Requirement already satisfied: Werkzeug>=2.2.2 in c:\\users\\diogenes monegro\\appdata\\local\\programs\\python\\python311\\lib\\site-packages (from Flask<4->mlflow) (2.2.3)\n",
      "Requirement already satisfied: itsdangerous>=2.0 in c:\\users\\diogenes monegro\\appdata\\local\\programs\\python\\python311\\lib\\site-packages (from Flask<4->mlflow) (2.2.0)\n",
      "Requirement already satisfied: graphql-core<3.3,>=3.1 in c:\\users\\diogenes monegro\\appdata\\local\\programs\\python\\python311\\lib\\site-packages (from graphene<4->mlflow) (3.2.3)\n",
      "Requirement already satisfied: graphql-relay<3.3,>=3.1 in c:\\users\\diogenes monegro\\appdata\\local\\programs\\python\\python311\\lib\\site-packages (from graphene<4->mlflow) (3.2.0)\n",
      "Requirement already satisfied: aniso8601<10,>=8 in c:\\users\\diogenes monegro\\appdata\\local\\programs\\python\\python311\\lib\\site-packages (from graphene<4->mlflow) (9.0.1)\n",
      "Requirement already satisfied: MarkupSafe>=2.0 in c:\\users\\diogenes monegro\\appdata\\local\\programs\\python\\python311\\lib\\site-packages (from Jinja2<4,>=3.0->mlflow) (2.1.5)\n",
      "Requirement already satisfied: contourpy>=1.0.1 in c:\\users\\diogenes monegro\\appdata\\local\\programs\\python\\python311\\lib\\site-packages (from matplotlib<4->mlflow) (1.1.1)\n",
      "Requirement already satisfied: cycler>=0.10 in c:\\users\\diogenes monegro\\appdata\\local\\programs\\python\\python311\\lib\\site-packages (from matplotlib<4->mlflow) (0.11.0)\n",
      "Requirement already satisfied: fonttools>=4.22.0 in c:\\users\\diogenes monegro\\appdata\\local\\programs\\python\\python311\\lib\\site-packages (from matplotlib<4->mlflow) (4.42.1)\n",
      "Requirement already satisfied: kiwisolver>=1.0.1 in c:\\users\\diogenes monegro\\appdata\\local\\programs\\python\\python311\\lib\\site-packages (from matplotlib<4->mlflow) (1.4.5)\n",
      "Requirement already satisfied: pillow>=6.2.0 in c:\\users\\diogenes monegro\\appdata\\local\\programs\\python\\python311\\lib\\site-packages (from matplotlib<4->mlflow) (10.0.1)\n",
      "Requirement already satisfied: pyparsing>=2.3.1 in c:\\users\\diogenes monegro\\appdata\\local\\programs\\python\\python311\\lib\\site-packages (from matplotlib<4->mlflow) (3.1.1)\n",
      "Requirement already satisfied: python-dateutil>=2.7 in c:\\users\\diogenes monegro\\appdata\\roaming\\python\\python311\\site-packages (from matplotlib<4->mlflow) (2.8.2)\n",
      "Requirement already satisfied: pytz>=2020.1 in c:\\users\\diogenes monegro\\appdata\\local\\programs\\python\\python311\\lib\\site-packages (from pandas<3->mlflow) (2023.3.post1)\n",
      "Requirement already satisfied: tzdata>=2022.7 in c:\\users\\diogenes monegro\\appdata\\local\\programs\\python\\python311\\lib\\site-packages (from pandas<3->mlflow) (2023.3)\n",
      "Requirement already satisfied: joblib>=1.2.0 in c:\\users\\diogenes monegro\\appdata\\local\\programs\\python\\python311\\lib\\site-packages (from scikit-learn<2->mlflow) (1.3.2)\n",
      "Requirement already satisfied: threadpoolctl>=3.1.0 in c:\\users\\diogenes monegro\\appdata\\local\\programs\\python\\python311\\lib\\site-packages (from scikit-learn<2->mlflow) (3.2.0)\n",
      "Requirement already satisfied: greenlet!=0.4.17 in c:\\users\\diogenes monegro\\appdata\\local\\programs\\python\\python311\\lib\\site-packages (from sqlalchemy<3,>=1.4.0->mlflow) (3.0.3)\n",
      "Requirement already satisfied: colorama in c:\\users\\diogenes monegro\\appdata\\local\\programs\\python\\python311\\lib\\site-packages (from click<9,>=7.0->mlflow-skinny==2.19.0->mlflow) (0.4.6)\n",
      "Requirement already satisfied: google-auth~=2.0 in c:\\users\\diogenes monegro\\appdata\\local\\programs\\python\\python311\\lib\\site-packages (from databricks-sdk<1,>=0.20.0->mlflow-skinny==2.19.0->mlflow) (2.34.0)\n",
      "Requirement already satisfied: gitdb<5,>=4.0.1 in c:\\users\\diogenes monegro\\appdata\\local\\programs\\python\\python311\\lib\\site-packages (from gitpython<4,>=3.1.9->mlflow-skinny==2.19.0->mlflow) (4.0.11)\n",
      "Requirement already satisfied: zipp>=0.5 in c:\\users\\diogenes monegro\\appdata\\local\\programs\\python\\python311\\lib\\site-packages (from importlib_metadata!=4.7.0,<9,>=3.7.0->mlflow-skinny==2.19.0->mlflow) (3.16.2)\n",
      "Requirement already satisfied: deprecated>=1.2.6 in c:\\users\\diogenes monegro\\appdata\\local\\programs\\python\\python311\\lib\\site-packages (from opentelemetry-api<3,>=1.9.0->mlflow-skinny==2.19.0->mlflow) (1.2.14)\n",
      "Requirement already satisfied: opentelemetry-semantic-conventions==0.50b0 in c:\\users\\diogenes monegro\\appdata\\local\\programs\\python\\python311\\lib\\site-packages (from opentelemetry-sdk<3,>=1.9.0->mlflow-skinny==2.19.0->mlflow) (0.50b0)\n",
      "Requirement already satisfied: six>=1.5 in c:\\users\\diogenes monegro\\appdata\\local\\programs\\python\\python311\\lib\\site-packages (from python-dateutil>=2.7->matplotlib<4->mlflow) (1.16.0)\n",
      "Requirement already satisfied: charset-normalizer<4,>=2 in c:\\users\\diogenes monegro\\appdata\\local\\programs\\python\\python311\\lib\\site-packages (from requests<3,>=2.17.3->mlflow-skinny==2.19.0->mlflow) (3.2.0)\n",
      "Requirement already satisfied: idna<4,>=2.5 in c:\\users\\diogenes monegro\\appdata\\local\\programs\\python\\python311\\lib\\site-packages (from requests<3,>=2.17.3->mlflow-skinny==2.19.0->mlflow) (3.4)\n",
      "Requirement already satisfied: certifi>=2017.4.17 in c:\\users\\diogenes monegro\\appdata\\local\\programs\\python\\python311\\lib\\site-packages (from requests<3,>=2.17.3->mlflow-skinny==2.19.0->mlflow) (2023.5.7)\n",
      "Requirement already satisfied: wrapt<2,>=1.10 in c:\\users\\diogenes monegro\\appdata\\local\\programs\\python\\python311\\lib\\site-packages (from deprecated>=1.2.6->opentelemetry-api<3,>=1.9.0->mlflow-skinny==2.19.0->mlflow) (1.16.0)\n",
      "Requirement already satisfied: smmap<6,>=3.0.1 in c:\\users\\diogenes monegro\\appdata\\local\\programs\\python\\python311\\lib\\site-packages (from gitdb<5,>=4.0.1->gitpython<4,>=3.1.9->mlflow-skinny==2.19.0->mlflow) (5.0.1)\n",
      "Requirement already satisfied: pyasn1-modules>=0.2.1 in c:\\users\\diogenes monegro\\appdata\\local\\programs\\python\\python311\\lib\\site-packages (from google-auth~=2.0->databricks-sdk<1,>=0.20.0->mlflow-skinny==2.19.0->mlflow) (0.4.0)\n",
      "Requirement already satisfied: rsa<5,>=3.1.4 in c:\\users\\diogenes monegro\\appdata\\local\\programs\\python\\python311\\lib\\site-packages (from google-auth~=2.0->databricks-sdk<1,>=0.20.0->mlflow-skinny==2.19.0->mlflow) (4.9)\n",
      "Requirement already satisfied: pyasn1<0.7.0,>=0.4.6 in c:\\users\\diogenes monegro\\appdata\\local\\programs\\python\\python311\\lib\\site-packages (from pyasn1-modules>=0.2.1->google-auth~=2.0->databricks-sdk<1,>=0.20.0->mlflow-skinny==2.19.0->mlflow) (0.6.0)\n",
      "Note: you may need to restart the kernel to use updated packages.\n"
     ]
    }
   ],
   "source": [
    "%pip install mlflow"
   ]
  },
  {
   "cell_type": "markdown",
   "metadata": {},
   "source": [
    "### Import Libraries"
   ]
  },
  {
   "cell_type": "code",
   "execution_count": 90,
   "metadata": {},
   "outputs": [],
   "source": [
    "import mlflow\n",
    "import mlflow.sklearn\n",
    "import numpy as np\n",
    "import pandas as pd\n",
    "import seaborn as sns\n",
    "import matplotlib.pyplot as plt"
   ]
  },
  {
   "cell_type": "code",
   "execution_count": 91,
   "metadata": {},
   "outputs": [],
   "source": [
    "# configuration\n",
    "sns.set_theme(style=\"white\", palette=\"deep\")"
   ]
  },
  {
   "cell_type": "code",
   "execution_count": 92,
   "metadata": {},
   "outputs": [
    {
     "data": {
      "text/html": [
       "<div>\n",
       "<style scoped>\n",
       "    .dataframe tbody tr th:only-of-type {\n",
       "        vertical-align: middle;\n",
       "    }\n",
       "\n",
       "    .dataframe tbody tr th {\n",
       "        vertical-align: top;\n",
       "    }\n",
       "\n",
       "    .dataframe thead th {\n",
       "        text-align: right;\n",
       "    }\n",
       "</style>\n",
       "<table border=\"1\" class=\"dataframe\">\n",
       "  <thead>\n",
       "    <tr style=\"text-align: right;\">\n",
       "      <th></th>\n",
       "      <th>Hours_Studied</th>\n",
       "      <th>Attendance</th>\n",
       "      <th>Parental_Involvement</th>\n",
       "      <th>Access_to_Resources</th>\n",
       "      <th>Extracurricular_Activities</th>\n",
       "      <th>Sleep_Hours</th>\n",
       "      <th>Previous_Scores</th>\n",
       "      <th>Motivation_Level</th>\n",
       "      <th>Internet_Access</th>\n",
       "      <th>Tutoring_Sessions</th>\n",
       "      <th>Family_Income</th>\n",
       "      <th>Teacher_Quality</th>\n",
       "      <th>School_Type</th>\n",
       "      <th>Peer_Influence</th>\n",
       "      <th>Physical_Activity</th>\n",
       "      <th>Learning_Disabilities</th>\n",
       "      <th>Parental_Education_Level</th>\n",
       "      <th>Distance_from_Home</th>\n",
       "      <th>Gender</th>\n",
       "      <th>Exam_Score</th>\n",
       "    </tr>\n",
       "  </thead>\n",
       "  <tbody>\n",
       "    <tr>\n",
       "      <th>0</th>\n",
       "      <td>23</td>\n",
       "      <td>84</td>\n",
       "      <td>Low</td>\n",
       "      <td>High</td>\n",
       "      <td>No</td>\n",
       "      <td>7</td>\n",
       "      <td>73</td>\n",
       "      <td>Low</td>\n",
       "      <td>Yes</td>\n",
       "      <td>0</td>\n",
       "      <td>Low</td>\n",
       "      <td>Medium</td>\n",
       "      <td>Public</td>\n",
       "      <td>Positive</td>\n",
       "      <td>3</td>\n",
       "      <td>No</td>\n",
       "      <td>High School</td>\n",
       "      <td>Near</td>\n",
       "      <td>Male</td>\n",
       "      <td>67</td>\n",
       "    </tr>\n",
       "    <tr>\n",
       "      <th>1</th>\n",
       "      <td>19</td>\n",
       "      <td>64</td>\n",
       "      <td>Low</td>\n",
       "      <td>Medium</td>\n",
       "      <td>No</td>\n",
       "      <td>8</td>\n",
       "      <td>59</td>\n",
       "      <td>Low</td>\n",
       "      <td>Yes</td>\n",
       "      <td>2</td>\n",
       "      <td>Medium</td>\n",
       "      <td>Medium</td>\n",
       "      <td>Public</td>\n",
       "      <td>Negative</td>\n",
       "      <td>4</td>\n",
       "      <td>No</td>\n",
       "      <td>College</td>\n",
       "      <td>Moderate</td>\n",
       "      <td>Female</td>\n",
       "      <td>61</td>\n",
       "    </tr>\n",
       "    <tr>\n",
       "      <th>2</th>\n",
       "      <td>24</td>\n",
       "      <td>98</td>\n",
       "      <td>Medium</td>\n",
       "      <td>Medium</td>\n",
       "      <td>Yes</td>\n",
       "      <td>7</td>\n",
       "      <td>91</td>\n",
       "      <td>Medium</td>\n",
       "      <td>Yes</td>\n",
       "      <td>2</td>\n",
       "      <td>Medium</td>\n",
       "      <td>Medium</td>\n",
       "      <td>Public</td>\n",
       "      <td>Neutral</td>\n",
       "      <td>4</td>\n",
       "      <td>No</td>\n",
       "      <td>Postgraduate</td>\n",
       "      <td>Near</td>\n",
       "      <td>Male</td>\n",
       "      <td>74</td>\n",
       "    </tr>\n",
       "    <tr>\n",
       "      <th>3</th>\n",
       "      <td>29</td>\n",
       "      <td>89</td>\n",
       "      <td>Low</td>\n",
       "      <td>Medium</td>\n",
       "      <td>Yes</td>\n",
       "      <td>8</td>\n",
       "      <td>98</td>\n",
       "      <td>Medium</td>\n",
       "      <td>Yes</td>\n",
       "      <td>1</td>\n",
       "      <td>Medium</td>\n",
       "      <td>Medium</td>\n",
       "      <td>Public</td>\n",
       "      <td>Negative</td>\n",
       "      <td>4</td>\n",
       "      <td>No</td>\n",
       "      <td>High School</td>\n",
       "      <td>Moderate</td>\n",
       "      <td>Male</td>\n",
       "      <td>71</td>\n",
       "    </tr>\n",
       "    <tr>\n",
       "      <th>4</th>\n",
       "      <td>19</td>\n",
       "      <td>92</td>\n",
       "      <td>Medium</td>\n",
       "      <td>Medium</td>\n",
       "      <td>Yes</td>\n",
       "      <td>6</td>\n",
       "      <td>65</td>\n",
       "      <td>Medium</td>\n",
       "      <td>Yes</td>\n",
       "      <td>3</td>\n",
       "      <td>Medium</td>\n",
       "      <td>High</td>\n",
       "      <td>Public</td>\n",
       "      <td>Neutral</td>\n",
       "      <td>4</td>\n",
       "      <td>No</td>\n",
       "      <td>College</td>\n",
       "      <td>Near</td>\n",
       "      <td>Female</td>\n",
       "      <td>70</td>\n",
       "    </tr>\n",
       "  </tbody>\n",
       "</table>\n",
       "</div>"
      ],
      "text/plain": [
       "   Hours_Studied  Attendance Parental_Involvement Access_to_Resources  \\\n",
       "0             23          84                  Low                High   \n",
       "1             19          64                  Low              Medium   \n",
       "2             24          98               Medium              Medium   \n",
       "3             29          89                  Low              Medium   \n",
       "4             19          92               Medium              Medium   \n",
       "\n",
       "  Extracurricular_Activities  Sleep_Hours  Previous_Scores Motivation_Level  \\\n",
       "0                         No            7               73              Low   \n",
       "1                         No            8               59              Low   \n",
       "2                        Yes            7               91           Medium   \n",
       "3                        Yes            8               98           Medium   \n",
       "4                        Yes            6               65           Medium   \n",
       "\n",
       "  Internet_Access  Tutoring_Sessions Family_Income Teacher_Quality  \\\n",
       "0             Yes                  0           Low          Medium   \n",
       "1             Yes                  2        Medium          Medium   \n",
       "2             Yes                  2        Medium          Medium   \n",
       "3             Yes                  1        Medium          Medium   \n",
       "4             Yes                  3        Medium            High   \n",
       "\n",
       "  School_Type Peer_Influence  Physical_Activity Learning_Disabilities  \\\n",
       "0      Public       Positive                  3                    No   \n",
       "1      Public       Negative                  4                    No   \n",
       "2      Public        Neutral                  4                    No   \n",
       "3      Public       Negative                  4                    No   \n",
       "4      Public        Neutral                  4                    No   \n",
       "\n",
       "  Parental_Education_Level Distance_from_Home  Gender  Exam_Score  \n",
       "0              High School               Near    Male          67  \n",
       "1                  College           Moderate  Female          61  \n",
       "2             Postgraduate               Near    Male          74  \n",
       "3              High School           Moderate    Male          71  \n",
       "4                  College               Near  Female          70  "
      ]
     },
     "execution_count": 92,
     "metadata": {},
     "output_type": "execute_result"
    }
   ],
   "source": [
    "df_students = pd.read_csv(\"../datasets/StudentPerformanceFactors.csv\")\n",
    "df_students.head()"
   ]
  },
  {
   "cell_type": "code",
   "execution_count": 93,
   "metadata": {},
   "outputs": [
    {
     "data": {
      "text/plain": [
       "['hours_studied',\n",
       " 'attendance',\n",
       " 'parental_involvement',\n",
       " 'access_to_resources',\n",
       " 'extracurricular_activities',\n",
       " 'sleep_hours',\n",
       " 'previous_scores',\n",
       " 'motivation_level',\n",
       " 'internet_access',\n",
       " 'tutoring_sessions',\n",
       " 'family_income',\n",
       " 'teacher_quality',\n",
       " 'school_type',\n",
       " 'peer_influence',\n",
       " 'physical_activity',\n",
       " 'learning_disabilities',\n",
       " 'parental_education_level',\n",
       " 'distance_from_home',\n",
       " 'gender',\n",
       " 'exam_score']"
      ]
     },
     "execution_count": 93,
     "metadata": {},
     "output_type": "execute_result"
    }
   ],
   "source": [
    "df_students.columns = df_students.columns.str.lower()\n",
    "df_students.columns.to_list()"
   ]
  },
  {
   "cell_type": "code",
   "execution_count": 94,
   "metadata": {},
   "outputs": [
    {
     "data": {
      "text/plain": [
       "hours_studied                 0\n",
       "attendance                    0\n",
       "parental_involvement          0\n",
       "access_to_resources           0\n",
       "extracurricular_activities    0\n",
       "sleep_hours                   0\n",
       "previous_scores               0\n",
       "motivation_level              0\n",
       "internet_access               0\n",
       "tutoring_sessions             0\n",
       "family_income                 0\n",
       "teacher_quality               0\n",
       "school_type                   0\n",
       "peer_influence                0\n",
       "physical_activity             0\n",
       "learning_disabilities         0\n",
       "parental_education_level      0\n",
       "distance_from_home            0\n",
       "gender                        0\n",
       "exam_score                    0\n",
       "dtype: int64"
      ]
     },
     "execution_count": 94,
     "metadata": {},
     "output_type": "execute_result"
    }
   ],
   "source": [
    "df_students.isnull().sum()\n",
    "df_students.dropna(inplace=True)\n",
    "df_students.isnull().sum()"
   ]
  },
  {
   "cell_type": "code",
   "execution_count": 95,
   "metadata": {},
   "outputs": [],
   "source": [
    "df_students.drop_duplicates(inplace=True)"
   ]
  },
  {
   "cell_type": "code",
   "execution_count": 96,
   "metadata": {},
   "outputs": [],
   "source": [
    "df_students.loc[df_students[\"exam_score\"] > 100, \"exam_score\"] = 100\n",
    "df_students['status'] = np.where(df_students['exam_score'] >= 70, 'Pass', 'Fail')"
   ]
  },
  {
   "cell_type": "code",
   "execution_count": 97,
   "metadata": {},
   "outputs": [
    {
     "data": {
      "text/plain": [
       "hours_studied                    int64\n",
       "attendance                       int64\n",
       "parental_involvement          category\n",
       "access_to_resources           category\n",
       "extracurricular_activities    category\n",
       "sleep_hours                      int64\n",
       "previous_scores                  int64\n",
       "motivation_level              category\n",
       "internet_access               category\n",
       "tutoring_sessions                int64\n",
       "family_income                 category\n",
       "teacher_quality               category\n",
       "school_type                   category\n",
       "peer_influence                category\n",
       "physical_activity                int64\n",
       "learning_disabilities         category\n",
       "parental_education_level      category\n",
       "distance_from_home            category\n",
       "gender                        category\n",
       "exam_score                       int64\n",
       "status                        category\n",
       "dtype: object"
      ]
     },
     "execution_count": 97,
     "metadata": {},
     "output_type": "execute_result"
    }
   ],
   "source": [
    "columns = df_students.dtypes[df_students.dtypes == \"object\"].to_dict().keys()\n",
    "\n",
    "for column in columns:\n",
    "    df_students[column] = df_students[column].astype(\"category\")\n",
    "\n",
    "df_students.dtypes"
   ]
  },
  {
   "cell_type": "markdown",
   "metadata": {},
   "source": [
    "### Analyze exploration data"
   ]
  },
  {
   "cell_type": "code",
   "execution_count": 98,
   "metadata": {},
   "outputs": [
    {
     "name": "stderr",
     "output_type": "stream",
     "text": [
      "C:\\Users\\diogenes monegro\\AppData\\Local\\Temp\\ipykernel_21560\\711894587.py:1: FutureWarning: The default of observed=False is deprecated and will be changed to True in a future version of pandas. Pass observed=False to retain current behavior or observed=True to adopt the future default and silence this warning.\n",
      "  df_school_type = df_students.groupby(\"school_type\").size().reset_index(name=\"count\")\n"
     ]
    },
    {
     "data": {
      "image/png": "[encoded data removed]",
      "text/plain": [
       "<Figure size 640x480 with 1 Axes>"
      ]
     },
     "metadata": {},
     "output_type": "display_data"
    }
   ],
   "source": [
    "df_school_type = df_students.groupby(\"school_type\").size().reset_index(name=\"count\")\n",
    "\n",
    "sns.barplot(x=\"school_type\", y=\"count\", hue=\"school_type\", data=df_school_type)\n",
    "plt.xlabel(\"School Type\")\n",
    "plt.ylabel(\"Count\")\n",
    "plt.title(\"School Type Distribution\")\n",
    "plt.show()"
   ]
  },
  {
   "cell_type": "code",
   "execution_count": 99,
   "metadata": {},
   "outputs": [
    {
     "name": "stderr",
     "output_type": "stream",
     "text": [
      "C:\\Users\\diogenes monegro\\AppData\\Local\\Temp\\ipykernel_21560\\2961247904.py:1: FutureWarning: The default of observed=False is deprecated and will be changed to True in a future version of pandas. Pass observed=False to retain current behavior or observed=True to adopt the future default and silence this warning.\n",
      "  df_family_income = df_students.groupby(\"family_income\").size().reset_index(name=\"count\")\n"
     ]
    },
    {
     "data": {
      "image/png": "[encoded data removed]",
      "text/plain": [
       "<Figure size 640x480 with 1 Axes>"
      ]
     },
     "metadata": {},
     "output_type": "display_data"
    }
   ],
   "source": [
    "df_family_income = df_students.groupby(\"family_income\").size().reset_index(name=\"count\")\n",
    "\n",
    "sns.barplot(x=\"family_income\", y=\"count\", hue=\"family_income\", data=df_family_income)\n",
    "plt.xlabel(\"Family Income\")\n",
    "plt.ylabel(\"Count\")\n",
    "plt.title(\"Family Income Distribution\")\n",
    "plt.show()"
   ]
  },
  {
   "cell_type": "code",
   "execution_count": 100,
   "metadata": {},
   "outputs": [
    {
     "name": "stderr",
     "output_type": "stream",
     "text": [
      "C:\\Users\\diogenes monegro\\AppData\\Local\\Temp\\ipykernel_21560\\1840273385.py:2: FutureWarning: The default of observed=False is deprecated and will be changed to True in a future version of pandas. Pass observed=False to retain current behavior or observed=True to adopt the future default and silence this warning.\n",
      "  df_students.groupby(\"teacher_quality\").size().reset_index(name=\"count\")\n"
     ]
    },
    {
     "data": {
      "image/png": "[encoded data removed]",
      "text/plain": [
       "<Figure size 640x480 with 1 Axes>"
      ]
     },
     "metadata": {},
     "output_type": "display_data"
    }
   ],
   "source": [
    "df_teacher_quality = (\n",
    "    df_students.groupby(\"teacher_quality\").size().reset_index(name=\"count\")\n",
    ")\n",
    "\n",
    "sns.barplot(\n",
    "    x=\"teacher_quality\", y=\"count\", hue=\"teacher_quality\", data=df_teacher_quality\n",
    ")\n",
    "plt.xlabel(\"Teacher Quality\")\n",
    "plt.ylabel(\"Count\")\n",
    "plt.title(\"Teacher Quality Distribution\")\n",
    "plt.show()"
   ]
  },
  {
   "cell_type": "code",
   "execution_count": 101,
   "metadata": {},
   "outputs": [
    {
     "name": "stderr",
     "output_type": "stream",
     "text": [
      "C:\\Users\\diogenes monegro\\AppData\\Local\\Temp\\ipykernel_21560\\2515162470.py:1: FutureWarning: The default of observed=False is deprecated and will be changed to True in a future version of pandas. Pass observed=False to retain current behavior or observed=True to adopt the future default and silence this warning.\n",
      "  df_motivation = df_students.groupby(\"motivation_level\").size().reset_index(name=\"count\")\n"
     ]
    },
    {
     "data": {
      "image/png": "[encoded data removed]",
      "text/plain": [
       "<Figure size 640x480 with 1 Axes>"
      ]
     },
     "metadata": {},
     "output_type": "display_data"
    }
   ],
   "source": [
    "df_motivation = df_students.groupby(\"motivation_level\").size().reset_index(name=\"count\")\n",
    "\n",
    "sns.barplot(x=\"motivation_level\", y=\"count\", hue=\"motivation_level\", data=df_motivation)\n",
    "plt.xlabel(\"Motivation\")\n",
    "plt.ylabel(\"Count\")\n",
    "plt.title(\"Motivation Distribution\")\n",
    "plt.show()"
   ]
  },
  {
   "cell_type": "code",
   "execution_count": 102,
   "metadata": {},
   "outputs": [],
   "source": [
    "columns = [\"school_type\", \"family_income\", \"teacher_quality\", \"motivation_level\"]"
   ]
  }
 ],
 "metadata": {
  "kernelspec": {
   "display_name": "Python 3",
   "language": "python",
   "name": "python3"
  },
  "language_info": {
   "codemirror_mode": {
    "name": "ipython",
    "version": 3
   },
   "file_extension": ".py",
   "mimetype": "text/x-python",
   "name": "python",
   "nbconvert_exporter": "python",
   "pygments_lexer": "ipython3",
   "version": "3.11.3"
  }
 },
 "nbformat": 4,
 "nbformat_minor": 2
}
