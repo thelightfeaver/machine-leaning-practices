{
 "cells": [
  {
   "cell_type": "code",
   "execution_count": null,
   "metadata": {},
   "outputs": [],
   "source": [
    "%pip install pandas\n",
    "%pip install scikit-learn\n",
    "%pip install request\n",
    "%pip install matplotlib\n",
    "%pip install numpy\n",
    "%pip install joblib"
   ]
  },
  {
   "cell_type": "code",
   "execution_count": null,
   "metadata": {},
   "outputs": [],
   "source": [
    "import pandas as pd\n",
    "import mlflow\n",
    "from sklearn.linear_model import LinearRegression\n",
    "from sklearn.model_selection import train_test_split\n",
    "from sklearn.metrics import mean_squared_error, mean_absolute_error, r2_score\n",
    "\n",
    "\n",
    "# create a dataframe with data celsius and fahrenheit\n",
    "df = pd.DataFrame({'celsius': [-40, -10, 0, 8, 15, 22, 38],\n",
    "                     'fahrenheit': [-40, 14, 32, 46, 59, 72, 100]})\n",
    "\n",
    "# show info\n",
    "df.info()\n"
   ]
  },
  {
   "cell_type": "code",
   "execution_count": null,
   "metadata": {},
   "outputs": [],
   "source": [
    "# params for linear regression\n",
    "params = {\n",
    "    'fit_intercept': True,\n",
    "    'positive': True,\n",
    "    'copy_X': True,\n",
    "    'n_jobs': 10\n",
    "}\n",
    "\n",
    "# create a linear regression model\n",
    "model = LinearRegression(**params)\n",
    "\n",
    "# prepare data\n",
    "X = df[['celsius']].values.reshape(-1, 1)\n",
    "Y = df[['fahrenheit']].values\n",
    "\n",
    "# Split data\n",
    "x_train, x_test, y_train, y_test = train_test_split(X, Y, test_size=0.25, random_state=50)\n",
    "\n",
    "# Train model\n",
    "model.fit(x_train, y_train)\n",
    "\n",
    "# Predict\n",
    "y_pred = model.predict([[89]])\n",
    "\n",
    "print(y_pred)\n"
   ]
  },
  {
   "cell_type": "code",
   "execution_count": null,
   "metadata": {},
   "outputs": [],
   "source": [
    "# export model\n",
    "\n",
    "import joblib\n",
    "\n",
    "joblib.dump(model, '../streamlit/model/temp.pkl')"
   ]
  },
  {
   "cell_type": "code",
   "execution_count": null,
   "metadata": {},
   "outputs": [],
   "source": [
    "mlflow.set_tracking_uri('http://localhost:8080')\n",
    "mlflow.set_experiment('Temperature')\n",
    "\n",
    "with mlflow.start_run():\n",
    "\n",
    "    mlflow.log_input(mlflow.data.from_pandas(df))\n",
    "    mlflow.log_param('fit_intercept', params['fit_intercept'])\n",
    "    mlflow.log_param('positive', params['positive'])\n",
    "    mlflow.log_param('copy_X', params['copy_X'])\n",
    "    mlflow.log_param('n_jobs', params['n_jobs'])\n",
    "\n",
    "    mlflow.log_metric('mean_squared_error', mean_squared_error(y_test, model.predict(x_test)))\n",
    "    mlflow.log_metric('mean_absolute_error', mean_absolute_error(y_test, model.predict(x_test)))\n",
    "    mlflow.log_metric('r2_score', r2_score(y_test, model.predict(x_test)))\n",
    "\n",
    "    mlflow.sklearn.log_model(model, 'model')\n",
    "    mlflow.log_artifact('../streamlit/model/temp.pkl')\n",
    "    "
   ]
  }
 ],
 "metadata": {
  "kernelspec": {
   "display_name": "Python 3",
   "language": "python",
   "name": "python3"
  },
  "language_info": {
   "codemirror_mode": {
    "name": "ipython",
    "version": 3
   },
   "file_extension": ".py",
   "mimetype": "text/x-python",
   "name": "python",
   "nbconvert_exporter": "python",
   "pygments_lexer": "ipython3",
   "version": "3.12.2"
  },
  "orig_nbformat": 4
 },
 "nbformat": 4,
 "nbformat_minor": 2
}
