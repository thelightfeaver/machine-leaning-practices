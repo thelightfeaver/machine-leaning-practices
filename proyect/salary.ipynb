{
 "cells": [
  {
   "cell_type": "code",
   "execution_count": null,
   "metadata": {},
   "outputs": [],
   "source": [
    "%pip install pandas\n",
    "%pip install numpy\n",
    "%pip install matplotlib\n",
    "%pip install seaborn\n",
    "%pip install scikit-learn\n",
    "%pip install skimpy\n"
   ]
  },
  {
   "cell_type": "markdown",
   "metadata": {},
   "source": [
    "#### Import Libraries\n"
   ]
  },
  {
   "cell_type": "code",
   "execution_count": null,
   "metadata": {},
   "outputs": [],
   "source": [
    "import pandas as pd\n",
    "import numpy as np\n",
    "import matplotlib.pyplot as plt\n",
    "import seaborn as sns\n",
    "from skimpy import skim\n"
   ]
  },
  {
   "cell_type": "markdown",
   "metadata": {},
   "source": [
    "#### Get data\n"
   ]
  },
  {
   "cell_type": "code",
   "execution_count": null,
   "metadata": {},
   "outputs": [],
   "source": [
    "df_salary = pd.read_csv(\"../datasets/salary.csv\")\n",
    "pd.set_option(\"display.float_format\", \"${:,.2f}\".format)\n"
   ]
  },
  {
   "cell_type": "markdown",
   "metadata": {},
   "source": [
    "#### Clean Data\n"
   ]
  },
  {
   "cell_type": "code",
   "execution_count": null,
   "metadata": {},
   "outputs": [],
   "source": [
    "skim(df_salary)"
   ]
  },
  {
   "cell_type": "code",
   "execution_count": null,
   "metadata": {},
   "outputs": [],
   "source": [
    "df_salary.isnull().sum()\n",
    "df_salary.dropna(inplace=True)"
   ]
  },
  {
   "cell_type": "code",
   "execution_count": null,
   "metadata": {},
   "outputs": [],
   "source": [
    "df_salary.isnull().sum()"
   ]
  },
  {
   "cell_type": "code",
   "execution_count": null,
   "metadata": {},
   "outputs": [],
   "source": [
    "df_salary.info()"
   ]
  },
  {
   "cell_type": "markdown",
   "metadata": {},
   "source": [
    "#### Test Data\n"
   ]
  },
  {
   "cell_type": "code",
   "execution_count": null,
   "metadata": {},
   "outputs": [],
   "source": [
    "np.random.seed(43)\n",
    "df_salary.sample(10)"
   ]
  },
  {
   "cell_type": "code",
   "execution_count": null,
   "metadata": {},
   "outputs": [],
   "source": [
    "if 'unit' in df_salary.columns:\n",
    "    df_salary['unit'] = df_salary['unit'].astype('string')\n",
    "\n",
    "if 'designation' in df_salary.columns:\n",
    "    df_salary['designation'] = df_salary['designation'].astype('string')\n"
   ]
  },
  {
   "cell_type": "code",
   "execution_count": null,
   "metadata": {},
   "outputs": [],
   "source": [
    "df_salary.drop(columns=[\"FIRST NAME\", \"LAST NAME\", \"DOJ\", \"CURRENT DATE\"], axis=1, inplace=True)\n",
    "df_salary.columns = df_salary.columns.str.lower()\n",
    "df_salary.columns"
   ]
  },
  {
   "cell_type": "code",
   "execution_count": null,
   "metadata": {},
   "outputs": [],
   "source": [
    "# change tipy of columns\n",
    "df_salary['age'] = df_salary['age'].astype('int64')"
   ]
  },
  {
   "cell_type": "code",
   "execution_count": null,
   "metadata": {},
   "outputs": [],
   "source": [
    "df_salary['unit'].value_counts()"
   ]
  },
  {
   "cell_type": "code",
   "execution_count": null,
   "metadata": {},
   "outputs": [],
   "source": [
    "df_salary[\"designation\"].value_counts()"
   ]
  },
  {
   "cell_type": "code",
   "execution_count": null,
   "metadata": {},
   "outputs": [],
   "source": [
    "df_salary[\"sex\"].value_counts()"
   ]
  },
  {
   "cell_type": "markdown",
   "metadata": {},
   "source": [
    "#### Check quality of data"
   ]
  },
  {
   "cell_type": "code",
   "execution_count": null,
   "metadata": {},
   "outputs": [],
   "source": [
    "# calculate stats of salary for each unit\n",
    "df_unit_by_salary = df_salary.groupby('unit')['salary'].agg(['mean', 'median', 'std', 'min', 'max'])\n",
    "\n",
    "# create a mosaic plot for the stats salary of each unit\n",
    "fig, ax = plt.subplot_mosaic([['mean', 'median'], ['std', 'min'], ['max', 'max']], sharex=True, sharey=False, figsize=(20, 20))\n",
    "sns.barplot(x=\"unit\",y=\"mean\", data=df_unit_by_salary, ax=ax['mean'])\n",
    "sns.barplot(x=\"unit\",y=\"median\", data=df_unit_by_salary, ax=ax['median'])\n",
    "sns.barplot(x=\"unit\",y=\"std\", data=df_unit_by_salary, ax=ax['std'])\n",
    "sns.barplot(x=\"unit\",y=\"min\", data=df_unit_by_salary, ax=ax['min'])\n",
    "sns.barplot(x=\"unit\",y=\"max\", data=df_unit_by_salary, ax=ax['max'])\n",
    "plt.xticks(rotation=90)\n",
    "plt.xlabel(\"Unit\")\n",
    "plt.show()"
   ]
  },
  {
   "cell_type": "code",
   "execution_count": null,
   "metadata": {},
   "outputs": [],
   "source": [
    "\n",
    "# calculate stats of salary for each designation\n",
    "df_designation_by_salary = df_salary.groupby('designation')['salary'].agg(['mean', 'median', 'std', 'min', 'max']).reset_index()\n",
    "\n",
    "# create a mosaic plot for the stats salary of each designation\n",
    "fig, ax = plt.subplot_mosaic([['mean', 'median'], ['std', 'min'], ['max', 'max']], sharex=True, sharey=True, figsize=(20, 20))\n",
    "sns.barplot(x='designation', y='mean', data=df_designation_by_salary, ax=ax['mean'])\n",
    "sns.barplot(x='designation', y='median', data=df_designation_by_salary, ax=ax['median'])\n",
    "sns.barplot(x='designation', y='std', data=df_designation_by_salary, ax=ax['std'])\n",
    "sns.barplot(x='designation', y='min', data=df_designation_by_salary, ax=ax['min'])\n",
    "sns.barplot(x='designation', y='max', data=df_designation_by_salary, ax=ax['max'])\n",
    "plt.xticks(rotation=90)\n",
    "plt.xlabel('Designation')\n",
    "plt.show()"
   ]
  },
  {
   "cell_type": "code",
   "execution_count": null,
   "metadata": {},
   "outputs": [],
   "source": [
    "df_salary_by_exp = df_salary['past exp'].value_counts().reset_index()\n",
    "\n",
    "df_salary_by_exp"
   ]
  },
  {
   "cell_type": "code",
   "execution_count": null,
   "metadata": {},
   "outputs": [],
   "source": [
    "# get 100 examples of each past experience\n",
    "df_exp_10 = df_salary.groupby('past exp').head(100)\n",
    "df_exp_10 = df_exp_10[['past exp', 'salary']].sort_values('past exp', ascending=False).reset_index(drop=True)\n",
    "\n",
    "ax= sns.boxplot(x='past exp', y='salary', data=df_exp_10, palette='dark', hue='past exp', hue_order=df_exp_10['past exp'].unique())\n",
    "sns.move_legend(ax, loc='upper left', bbox_to_anchor=(1, 1), title='Past Experience')\n",
    "plt.title('Salary vs Past Experience')\n",
    "plt.xlabel('Past Experience')\n",
    "plt.ylabel('Salary')\n",
    "plt.show()"
   ]
  },
  {
   "cell_type": "code",
   "execution_count": null,
   "metadata": {},
   "outputs": [],
   "source": [
    "def_salary_mean_unit_designation = df_salary.pivot_table(index=[\"unit\"], columns=[\"designation\"], values=[\"salary\"], aggfunc=['mean'], fill_value=0, margins=True,)\n",
    "def_salary_mean_unit_designation"
   ]
  },
  {
   "cell_type": "code",
   "execution_count": null,
   "metadata": {},
   "outputs": [],
   "source": [
    "\n",
    "# Comparaison between past exp and age\n",
    "df_salary_by_age = df_salary.groupby('age')['salary'].std().reset_index()\n",
    "df_salary_by_exp = df_salary.groupby('past exp')['salary'].std().reset_index()\n",
    "\n",
    "fig, ax = plt.subplot_mosaic([['age', 'exp']], figsize=(20, 10))\n",
    "sns.lineplot(x='age', y='salary', data=df_salary_by_age, ax=ax['age'])\n",
    "sns.lineplot(x='past exp', y='salary', data=df_salary_by_exp, ax=ax['exp'])\n",
    "plt.show()"
   ]
  },
  {
   "cell_type": "code",
   "execution_count": null,
   "metadata": {},
   "outputs": [],
   "source": [
    "df_rating_by_unit = df_salary.pivot_table(index=[\"unit\"], columns=[\"designation\"], values=\"ratings\")\n",
    "\n",
    "# show the heatmap of the ratings by unit and designation\n",
    "sns.heatmap(df_rating_by_unit, annot=True, fmt=\".2f\", cmap='coolwarm')\n",
    "plt.title('Ratings by Unit and Designation')\n",
    "plt.xlabel('Designation')\n",
    "plt.ylabel('Unit')\n",
    "plt.show()"
   ]
  },
  {
   "cell_type": "markdown",
   "metadata": {},
   "source": [
    "# Selection of features"
   ]
  },
  {
   "cell_type": "code",
   "execution_count": null,
   "metadata": {},
   "outputs": [],
   "source": [
    "data_salary = df_salary.copy()\n",
    "\n",
    "data_salary = data_salary[['unit', 'designation', 'past exp', 'salary']]\n",
    "data_salary.count()"
   ]
  },
  {
   "cell_type": "markdown",
   "metadata": {},
   "source": [
    "## Machine Learning"
   ]
  },
  {
   "cell_type": "code",
   "execution_count": null,
   "metadata": {},
   "outputs": [],
   "source": [
    "\n",
    "# encode datafrom sklearn.preprocessing import LabelEncoder\n",
    "from sklearn.model_selection import train_test_split\n",
    "from sklearn.model_selection import cross_val_score\n",
    "from sklearn.model_selection import GridSearchCV\n",
    "from sklearn.linear_model import Lasso\n",
    "from sklearn.metrics import  mean_squared_error, r2_score, mean_absolute_error"
   ]
  },
  {
   "cell_type": "code",
   "execution_count": null,
   "metadata": {},
   "outputs": [],
   "source": [
    "from sklearn.preprocessing import LabelEncoder\n",
    "\n",
    "# encode data\n",
    "le = LabelEncoder()\n",
    "da  = LabelEncoder()\n",
    "\n",
    "du = data_salary['unit'].unique()\n",
    "dd = data_salary['designation'].unique()\n",
    "data_salary['unit'] = le.fit_transform(data_salary['unit'])\n",
    "data_salary['designation'] = da.fit_transform(data_salary['designation'])\n",
    "\n",
    "\n",
    "print(dict(zip(du,le.transform(du))))\n",
    "print(dict(zip(dd,da.transform(dd))))\n",
    "\n",
    "ml_data = data_salary.copy()\n",
    "ml_data['unit'] = ml_data['unit'].astype('int32')\n",
    "ml_data['designation'] = ml_data['unit'].astype('int32')\n",
    "\n",
    "\n",
    "# split data\n",
    "x_train, x_test, y_train, y_test = train_test_split(ml_data.drop(columns='salary'), ml_data['salary'], test_size=0.2, random_state=43)\n"
   ]
  },
  {
   "cell_type": "code",
   "execution_count": null,
   "metadata": {},
   "outputs": [],
   "source": [
    "from sklearn.pipeline import make_pipeline\n",
    "\n",
    "pipeline = make_pipeline(Lasso())\n",
    "\n",
    "param_grid = {'lasso__alpha': np.linspace(0.1, 1, 10),\n",
    "              'lasso__max_iter': [100, 1000, 10000],\n",
    "              'lasso__selection': ['cyclic', 'random'],\n",
    "              'lasso__warm_start': [True, False],\n",
    "              'lasso__positive': [True, False]}\n",
    "\n",
    "gs = GridSearchCV(pipeline, param_grid, cv=5, n_jobs=10, verbose=1)\n",
    "gs.fit(x_train, y_train)\n",
    "\n",
    "print(gs.best_params_)\n",
    "\n",
    "y_pred = gs.predict(x_test)\n"
   ]
  },
  {
   "cell_type": "code",
   "execution_count": null,
   "metadata": {},
   "outputs": [],
   "source": [
    "Mean_Squared_Error = mean_squared_error(y_test, y_pred)\n",
    "R2_Score = r2_score(y_test, y_pred)\n",
    "Mean_Absolute_Error = mean_absolute_error(y_test, y_pred)\n",
    "\n",
    "print(f\"Mean Squared Error: {Mean_Squared_Error}\")\n",
    "print(f\"R2 Score: {R2_Score}\")\n",
    "print(f\"Mean Absolute Error: {Mean_Absolute_Error}\")"
   ]
  },
  {
   "cell_type": "code",
   "execution_count": null,
   "metadata": {},
   "outputs": [],
   "source": [
    "# export the model\n",
    "import joblib\n",
    "\n",
    "joblib.dump(gs, '../streamlit/model/salary.pkl')"
   ]
  }
 ],
 "metadata": {
  "kernelspec": {
   "display_name": "env-ds",
   "language": "python",
   "name": "python3"
  },
  "language_info": {
   "codemirror_mode": {
    "name": "ipython",
    "version": 3
   },
   "file_extension": ".py",
   "mimetype": "text/x-python",
   "name": "python",
   "nbconvert_exporter": "python",
   "pygments_lexer": "ipython3",
   "version": "3.11.3"
  }
 },
 "nbformat": 4,
 "nbformat_minor": 2
}
