{
 "cells": [
  {
   "cell_type": "code",
   "execution_count": null,
   "metadata": {},
   "outputs": [],
   "source": [
    "%pip install pandas\n",
    "%pip install numpy\n",
    "%pip install matplotlib\n",
    "%pip install seaborn\n",
    "%pip install scikit-learn\n",
    "%pip install skimpy\n"
   ]
  },
  {
   "cell_type": "markdown",
   "metadata": {},
   "source": [
    "# Import Libraries\n"
   ]
  },
  {
   "cell_type": "code",
   "execution_count": null,
   "metadata": {},
   "outputs": [],
   "source": [
    "import pandas as pd\n",
    "import numpy as np\n",
    "import matplotlib.pyplot as plt\n",
    "import seaborn as sns\n",
    "from skimpy import skim\n"
   ]
  },
  {
   "cell_type": "markdown",
   "metadata": {},
   "source": [
    "# Get data\n"
   ]
  },
  {
   "cell_type": "code",
   "execution_count": null,
   "metadata": {},
   "outputs": [],
   "source": [
    "df_salary = pd.read_csv(\"../datasets/salary.csv\")"
   ]
  },
  {
   "cell_type": "markdown",
   "metadata": {},
   "source": [
    "# Clean Data\n"
   ]
  },
  {
   "cell_type": "code",
   "execution_count": null,
   "metadata": {},
   "outputs": [],
   "source": [
    "skim(df_salary)"
   ]
  },
  {
   "cell_type": "code",
   "execution_count": null,
   "metadata": {},
   "outputs": [],
   "source": [
    "df_salary.isnull().sum()\n",
    "df_salary.dropna(inplace=True)"
   ]
  },
  {
   "cell_type": "code",
   "execution_count": null,
   "metadata": {},
   "outputs": [],
   "source": [
    "df_salary.isnull().sum()"
   ]
  },
  {
   "cell_type": "code",
   "execution_count": null,
   "metadata": {},
   "outputs": [],
   "source": [
    "df_salary.info()"
   ]
  },
  {
   "cell_type": "code",
   "execution_count": null,
   "metadata": {},
   "outputs": [],
   "source": [
    "np.random.seed(43)\n",
    "df_salary.sample(10)"
   ]
  },
  {
   "cell_type": "code",
   "execution_count": null,
   "metadata": {},
   "outputs": [],
   "source": [
    "df_salary.drop(columns=[\"FIRST NAME\", \"LAST NAME\", \"DOJ\", \"CURRENT DATE\"], axis=1, inplace=True)\n",
    "df_salary.columns = df_salary.columns.str.lower()\n",
    "df_salary.columns"
   ]
  },
  {
   "cell_type": "code",
   "execution_count": null,
   "metadata": {},
   "outputs": [],
   "source": [
    "# change tipy of columns\n",
    "df_salary['age'] = df_salary['age'].astype('int64')"
   ]
  },
  {
   "cell_type": "code",
   "execution_count": null,
   "metadata": {},
   "outputs": [],
   "source": [
    "df_salary['unit'].value_counts()"
   ]
  },
  {
   "cell_type": "code",
   "execution_count": null,
   "metadata": {},
   "outputs": [],
   "source": [
    "df_salary[\"designation\"].value_counts()"
   ]
  },
  {
   "cell_type": "code",
   "execution_count": null,
   "metadata": {},
   "outputs": [],
   "source": [
    "df_salary[\"sex\"].value_counts()"
   ]
  },
  {
   "cell_type": "code",
   "execution_count": null,
   "metadata": {},
   "outputs": [],
   "source": [
    "# calculate the mean salary for each unit\n",
    "df_unit_by_salary = df_salary.groupby('unit')['salary'].agg(['mean', 'median', 'std', 'min', 'max'])\n",
    "\n",
    "for col in df_unit_by_salary.columns:\n",
    "    sns.barplot(x=df_unit_by_salary.index, y=df_unit_by_salary[col])\n",
    "    plt.title(col)\n",
    "    plt.show()"
   ]
  },
  {
   "cell_type": "code",
   "execution_count": null,
   "metadata": {},
   "outputs": [],
   "source": [
    "\n",
    "\n",
    "df_designation_by_salary = df_salary.groupby('designation')['salary'].agg(['mean', 'median', 'std', 'min', 'max']).reset_index()\n",
    "\n",
    "# create a mosaic plot for the mean salary of each designation\n",
    "fig, ax = plt.subplot_mosaic([['mean', 'median'], ['std', 'min'], ['max', 'max']], sharex=True, sharey=False, figsize=(20, 20))\n",
    "sns.barplot(x='designation', y='mean', data=df_designation_by_salary, ax=ax['mean'])\n",
    "sns.barplot(x='designation', y='median', data=df_designation_by_salary, ax=ax['median'])\n",
    "sns.barplot(x='designation', y='std', data=df_designation_by_salary, ax=ax['std'])\n",
    "sns.barplot(x='designation', y='min', data=df_designation_by_salary, ax=ax['min'])\n",
    "sns.barplot(x='designation', y='max', data=df_designation_by_salary, ax=ax['max'])\n",
    "plt.xticks(rotation=90)\n",
    "plt.show()"
   ]
  },
  {
   "cell_type": "code",
   "execution_count": null,
   "metadata": {},
   "outputs": [],
   "source": [
    "df_salary_by_exp = df_salary['past exp'].value_counts().reset_index()\n",
    "\n",
    "df_salary_by_exp"
   ]
  },
  {
   "cell_type": "code",
   "execution_count": null,
   "metadata": {},
   "outputs": [],
   "source": [
    "# get 10 examples of each past experience\n",
    "df_exp_10 = df_salary.groupby('past exp').head(10)\n",
    "df_exp_10 = df_exp_10[['past exp', 'salary']].sort_values('past exp', ascending=False).reset_index(drop=True)\n",
    "\n",
    "ax= sns.scatterplot(x='past exp', y='salary', data=df_exp_10, palette='dark', hue='past exp', hue_order=df_exp_10['past exp'].unique())\n",
    "sns.move_legend(ax, loc='upper left', bbox_to_anchor=(1, 1), title='Past Experience')\n",
    "plt.title('Salary vs Past Experience')\n",
    "plt.xlabel('Past Experience')\n",
    "plt.ylabel('Salary')\n",
    "plt.show()"
   ]
  },
  {
   "cell_type": "code",
   "execution_count": null,
   "metadata": {},
   "outputs": [],
   "source": [
    "import math\n",
    "\n",
    "def mean(x):\n",
    "    return round(np.mean(x), 2)\n",
    "\n",
    "def_salary_mean_unit_designation = df_salary.pivot_table(index=[\"unit\"], columns=[\"designation\"], values=[\"salary\"], aggfunc=[mean], fill_value=0, margins=True)\n",
    "def_salary_mean_unit_designation\n"
   ]
  },
  {
   "cell_type": "code",
   "execution_count": null,
   "metadata": {},
   "outputs": [],
   "source": [
    "df_salary_by_age = df_salary.groupby('age')['salary'].std().reset_index()\n",
    "df_salary_by_exp = df_salary.groupby('past exp')['salary'].std().reset_index()\n",
    "\n",
    "fig, ax = plt.subplot_mosaic([['age', 'exp']], figsize=(20, 10))\n",
    "sns.lineplot(x='age', y='salary', data=df_salary_by_age, ax=ax['age'])\n",
    "sns.lineplot(x='past exp', y='salary', data=df_salary_by_exp, ax=ax['exp'])\n",
    "plt.show()\n"
   ]
  },
  {
   "cell_type": "code",
   "execution_count": null,
   "metadata": {},
   "outputs": [],
   "source": [
    "df_rating_by_unit = df_salary.pivot_table(index=[\"unit\"], columns=[\"designation\"], values=\"ratings\")\n",
    "df_rating_by_unit\n",
    "\n",
    "# show the heatmap of the ratings by unit and designation\n",
    "sns.heatmap(df_rating_by_unit, annot=True, fmt=\".2f\", cmap='coolwarm')\n",
    "plt.title('Ratings by Unit and Designation')\n",
    "plt.show()\n"
   ]
  },
  {
   "cell_type": "code",
   "execution_count": null,
   "metadata": {},
   "outputs": [],
   "source": []
  }
 ],
 "metadata": {
  "kernelspec": {
   "display_name": "env-ds",
   "language": "python",
   "name": "python3"
  },
  "language_info": {
   "codemirror_mode": {
    "name": "ipython",
    "version": 3
   },
   "file_extension": ".py",
   "mimetype": "text/x-python",
   "name": "python",
   "nbconvert_exporter": "python",
   "pygments_lexer": "ipython3",
   "version": "3.11.3"
  }
 },
 "nbformat": 4,
 "nbformat_minor": 2
}
