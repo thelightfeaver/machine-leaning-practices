{
 "cells": [
  {
   "cell_type": "code",
   "execution_count": 8,
   "metadata": {},
   "outputs": [
    {
     "name": "stdout",
     "output_type": "stream",
     "text": [
      "Requirement already satisfied: pandas in c:\\users\\diogenes monegro\\appdata\\local\\programs\\python\\python311\\lib\\site-packages (2.2.2)Note: you may need to restart the kernel to use updated packages.\n",
      "\n",
      "Requirement already satisfied: numpy>=1.23.2 in c:\\users\\diogenes monegro\\appdata\\local\\programs\\python\\python311\\lib\\site-packages (from pandas) (1.26.0)\n",
      "Requirement already satisfied: python-dateutil>=2.8.2 in c:\\users\\diogenes monegro\\appdata\\roaming\\python\\python311\\site-packages (from pandas) (2.8.2)\n",
      "Requirement already satisfied: pytz>=2020.1 in c:\\users\\diogenes monegro\\appdata\\local\\programs\\python\\python311\\lib\\site-packages (from pandas) (2023.3.post1)\n",
      "Requirement already satisfied: tzdata>=2022.7 in c:\\users\\diogenes monegro\\appdata\\local\\programs\\python\\python311\\lib\\site-packages (from pandas) (2023.3)\n",
      "Requirement already satisfied: six>=1.5 in c:\\users\\diogenes monegro\\appdata\\local\\programs\\python\\python311\\lib\\site-packages (from python-dateutil>=2.8.2->pandas) (1.16.0)\n"
     ]
    },
    {
     "name": "stderr",
     "output_type": "stream",
     "text": [
      "\n",
      "[notice] A new release of pip is available: 24.3.1 -> 25.0.1\n",
      "[notice] To update, run: python.exe -m pip install --upgrade pip\n"
     ]
    },
    {
     "name": "stdout",
     "output_type": "stream",
     "text": [
      "Requirement already satisfied: numpy in c:\\users\\diogenes monegro\\appdata\\local\\programs\\python\\python311\\lib\\site-packages (1.26.0)\n",
      "Note: you may need to restart the kernel to use updated packages.\n"
     ]
    },
    {
     "name": "stderr",
     "output_type": "stream",
     "text": [
      "\n",
      "[notice] A new release of pip is available: 24.3.1 -> 25.0.1\n",
      "[notice] To update, run: python.exe -m pip install --upgrade pip\n"
     ]
    },
    {
     "name": "stdout",
     "output_type": "stream",
     "text": [
      "Note: you may need to restart the kernel to use updated packages.Requirement already satisfied: matplotlib in c:\\users\\diogenes monegro\\appdata\\local\\programs\\python\\python311\\lib\\site-packages (3.8.0)\n",
      "Requirement already satisfied: contourpy>=1.0.1 in c:\\users\\diogenes monegro\\appdata\\local\\programs\\python\\python311\\lib\\site-packages (from matplotlib) (1.1.1)\n",
      "Requirement already satisfied: cycler>=0.10 in c:\\users\\diogenes monegro\\appdata\\local\\programs\\python\\python311\\lib\\site-packages (from matplotlib) (0.11.0)\n",
      "Requirement already satisfied: fonttools>=4.22.0 in c:\\users\\diogenes monegro\\appdata\\local\\programs\\python\\python311\\lib\\site-packages (from matplotlib) (4.42.1)\n",
      "Requirement already satisfied: kiwisolver>=1.0.1 in c:\\users\\diogenes monegro\\appdata\\local\\programs\\python\\python311\\lib\\site-packages (from matplotlib) (1.4.5)\n",
      "Requirement already satisfied: numpy<2,>=1.21 in c:\\users\\diogenes monegro\\appdata\\local\\programs\\python\\python311\\lib\\site-packages (from matplotlib) (1.26.0)\n",
      "Requirement already satisfied: packaging>=20.0 in c:\\users\\diogenes monegro\\appdata\\local\\programs\\python\\python311\\lib\\site-packages (from matplotlib) (23.1)\n",
      "Requirement already satisfied: pillow>=6.2.0 in c:\\users\\diogenes monegro\\appdata\\local\\programs\\python\\python311\\lib\\site-packages (from matplotlib) (10.0.1)\n",
      "Requirement already satisfied: pyparsing>=2.3.1 in c:\\users\\diogenes monegro\\appdata\\local\\programs\\python\\python311\\lib\\site-packages (from matplotlib) (3.1.1)\n",
      "Requirement already satisfied: python-dateutil>=2.7 in c:\\users\\diogenes monegro\\appdata\\roaming\\python\\python311\\site-packages (from matplotlib) (2.8.2)\n",
      "Requirement already satisfied: six>=1.5 in c:\\users\\diogenes monegro\\appdata\\local\\programs\\python\\python311\\lib\\site-packages (from python-dateutil>=2.7->matplotlib) (1.16.0)\n",
      "\n"
     ]
    },
    {
     "name": "stderr",
     "output_type": "stream",
     "text": [
      "\n",
      "[notice] A new release of pip is available: 24.3.1 -> 25.0.1\n",
      "[notice] To update, run: python.exe -m pip install --upgrade pip\n"
     ]
    },
    {
     "name": "stdout",
     "output_type": "stream",
     "text": [
      "Requirement already satisfied: seaborn in c:\\users\\diogenes monegro\\appdata\\local\\programs\\python\\python311\\lib\\site-packages (0.13.2)Note: you may need to restart the kernel to use updated packages.\n",
      "\n",
      "Requirement already satisfied: numpy!=1.24.0,>=1.20 in c:\\users\\diogenes monegro\\appdata\\local\\programs\\python\\python311\\lib\\site-packages (from seaborn) (1.26.0)\n",
      "Requirement already satisfied: pandas>=1.2 in c:\\users\\diogenes monegro\\appdata\\local\\programs\\python\\python311\\lib\\site-packages (from seaborn) (2.2.2)\n",
      "Requirement already satisfied: matplotlib!=3.6.1,>=3.4 in c:\\users\\diogenes monegro\\appdata\\local\\programs\\python\\python311\\lib\\site-packages (from seaborn) (3.8.0)\n",
      "Requirement already satisfied: contourpy>=1.0.1 in c:\\users\\diogenes monegro\\appdata\\local\\programs\\python\\python311\\lib\\site-packages (from matplotlib!=3.6.1,>=3.4->seaborn) (1.1.1)\n",
      "Requirement already satisfied: cycler>=0.10 in c:\\users\\diogenes monegro\\appdata\\local\\programs\\python\\python311\\lib\\site-packages (from matplotlib!=3.6.1,>=3.4->seaborn) (0.11.0)\n",
      "Requirement already satisfied: fonttools>=4.22.0 in c:\\users\\diogenes monegro\\appdata\\local\\programs\\python\\python311\\lib\\site-packages (from matplotlib!=3.6.1,>=3.4->seaborn) (4.42.1)\n",
      "Requirement already satisfied: kiwisolver>=1.0.1 in c:\\users\\diogenes monegro\\appdata\\local\\programs\\python\\python311\\lib\\site-packages (from matplotlib!=3.6.1,>=3.4->seaborn) (1.4.5)\n",
      "Requirement already satisfied: packaging>=20.0 in c:\\users\\diogenes monegro\\appdata\\local\\programs\\python\\python311\\lib\\site-packages (from matplotlib!=3.6.1,>=3.4->seaborn) (23.1)\n",
      "Requirement already satisfied: pillow>=6.2.0 in c:\\users\\diogenes monegro\\appdata\\local\\programs\\python\\python311\\lib\\site-packages (from matplotlib!=3.6.1,>=3.4->seaborn) (10.0.1)\n",
      "Requirement already satisfied: pyparsing>=2.3.1 in c:\\users\\diogenes monegro\\appdata\\local\\programs\\python\\python311\\lib\\site-packages (from matplotlib!=3.6.1,>=3.4->seaborn) (3.1.1)\n",
      "Requirement already satisfied: python-dateutil>=2.7 in c:\\users\\diogenes monegro\\appdata\\roaming\\python\\python311\\site-packages (from matplotlib!=3.6.1,>=3.4->seaborn) (2.8.2)\n",
      "Requirement already satisfied: pytz>=2020.1 in c:\\users\\diogenes monegro\\appdata\\local\\programs\\python\\python311\\lib\\site-packages (from pandas>=1.2->seaborn) (2023.3.post1)\n",
      "Requirement already satisfied: tzdata>=2022.7 in c:\\users\\diogenes monegro\\appdata\\local\\programs\\python\\python311\\lib\\site-packages (from pandas>=1.2->seaborn) (2023.3)\n",
      "Requirement already satisfied: six>=1.5 in c:\\users\\diogenes monegro\\appdata\\local\\programs\\python\\python311\\lib\\site-packages (from python-dateutil>=2.7->matplotlib!=3.6.1,>=3.4->seaborn) (1.16.0)\n"
     ]
    },
    {
     "name": "stderr",
     "output_type": "stream",
     "text": [
      "\n",
      "[notice] A new release of pip is available: 24.3.1 -> 25.0.1\n",
      "[notice] To update, run: python.exe -m pip install --upgrade pip\n"
     ]
    },
    {
     "name": "stdout",
     "output_type": "stream",
     "text": [
      "Requirement already satisfied: scikit-learn in c:\\users\\diogenes monegro\\appdata\\local\\programs\\python\\python311\\lib\\site-packages (1.5.2)Note: you may need to restart the kernel to use updated packages.\n",
      "\n",
      "Requirement already satisfied: numpy>=1.19.5 in c:\\users\\diogenes monegro\\appdata\\local\\programs\\python\\python311\\lib\\site-packages (from scikit-learn) (1.26.0)\n",
      "Requirement already satisfied: scipy>=1.6.0 in c:\\users\\diogenes monegro\\appdata\\local\\programs\\python\\python311\\lib\\site-packages (from scikit-learn) (1.11.3)\n",
      "Requirement already satisfied: joblib>=1.2.0 in c:\\users\\diogenes monegro\\appdata\\local\\programs\\python\\python311\\lib\\site-packages (from scikit-learn) (1.3.2)\n",
      "Requirement already satisfied: threadpoolctl>=3.1.0 in c:\\users\\diogenes monegro\\appdata\\local\\programs\\python\\python311\\lib\\site-packages (from scikit-learn) (3.2.0)\n"
     ]
    },
    {
     "name": "stderr",
     "output_type": "stream",
     "text": [
      "\n",
      "[notice] A new release of pip is available: 24.3.1 -> 25.0.1\n",
      "[notice] To update, run: python.exe -m pip install --upgrade pip\n"
     ]
    }
   ],
   "source": [
    "%pip install pandas\n",
    "%pip install numpy\n",
    "%pip install matplotlib\n",
    "%pip install seaborn\n",
    "%pip install scikit-learn"
   ]
  },
  {
   "cell_type": "code",
   "execution_count": 9,
   "metadata": {},
   "outputs": [
    {
     "name": "stdout",
     "output_type": "stream",
     "text": [
      "<class 'pandas.core.frame.DataFrame'>\n",
      "RangeIndex: 13545 entries, 0 to 13544\n",
      "Data columns (total 8 columns):\n",
      " #   Column                 Non-Null Count  Dtype \n",
      "---  ------                 --------------  ----- \n",
      " 0   country_code           13545 non-null  object\n",
      " 1   country_name           13545 non-null  object\n",
      " 2   region                 13545 non-null  object\n",
      " 3   sub-region             13545 non-null  object\n",
      " 4   intermediate-region    5670 non-null   object\n",
      " 5   year                   13545 non-null  int64 \n",
      " 6   life_expectancy_women  13545 non-null  object\n",
      " 7   life_expectancy_men    13545 non-null  object\n",
      "dtypes: int64(1), object(7)\n",
      "memory usage: 846.7+ KB\n",
      "None\n"
     ]
    }
   ],
   "source": [
    "import pandas as pd\n",
    "\n",
    "# Load the data\n",
    "df_main = pd.read_csv(\"../datasets/life_expectancy_dataset.csv\", delimiter=\";\")\n",
    "\n",
    "# General Information\n",
    "print(df_main.info())\n",
    "\n"
   ]
  },
  {
   "cell_type": "code",
   "execution_count": 10,
   "metadata": {},
   "outputs": [
    {
     "data": {
      "application/vnd.microsoft.datawrangler.viewer.v0+json": {
       "columns": [
        {
         "name": "index",
         "rawType": "int64",
         "type": "integer"
        },
        {
         "name": "country_code",
         "rawType": "object",
         "type": "string"
        },
        {
         "name": "country_name",
         "rawType": "object",
         "type": "string"
        },
        {
         "name": "region",
         "rawType": "object",
         "type": "string"
        },
        {
         "name": "sub-region",
         "rawType": "object",
         "type": "string"
        },
        {
         "name": "intermediate-region",
         "rawType": "object",
         "type": "unknown"
        },
        {
         "name": "year",
         "rawType": "int64",
         "type": "integer"
        },
        {
         "name": "life_expectancy_women",
         "rawType": "object",
         "type": "string"
        },
        {
         "name": "life_expectancy_men",
         "rawType": "object",
         "type": "string"
        }
       ],
       "conversionMethod": "pd.DataFrame",
       "ref": "0c05f782-54df-4836-b4f4-876341466834",
       "rows": [
        [
         "11349",
         "SEN",
         "SENEGAL",
         "AFRICA",
         "SUB-SAHARAN AFRICA",
         "WESTERN AFRICA",
         "1969",
         "40,59",
         "40,31"
        ],
        [
         "4635",
         "GHA",
         "GHANA",
         "AFRICA",
         "SUB-SAHARAN AFRICA",
         "WESTERN AFRICA",
         "1996",
         "57,92",
         "55,72"
        ],
        [
         "5630",
         "IDN",
         "INDONESIA",
         "ASIA",
         "SOUTH-EASTERN ASIA",
         null,
         "1983",
         "62,05",
         "58,56"
        ],
        [
         "2938",
         "CRI",
         "COSTA RICA",
         "AMERICAS",
         "LATIN AMERICA AND THE CARIBBEAN",
         "CENTRAL AMERICA",
         "2000",
         "80,04",
         "75,25"
        ],
        [
         "2456",
         "CHN",
         "CHINA",
         "ASIA",
         "EASTERN ASIA",
         null,
         "2022",
         "81,34",
         "75,96"
        ],
        [
         "9670",
         "PRY",
         "PARAGUAY",
         "AMERICAS",
         "LATIN AMERICA AND THE CARIBBEAN",
         "SOUTH AMERICA",
         "1991",
         "70,08",
         "66,35"
        ],
        [
         "6263",
         "SLB",
         "ISLAS SALOMÓN",
         "OCEANIA",
         "MELANESIA",
         null,
         "1986",
         "66,93",
         "61,41"
        ],
        [
         "1826",
         "BGR",
         "BULGARIA",
         "EUROPE",
         "EASTERN EUROPE",
         null,
         "2022",
         "78,10",
         "70,80"
        ],
        [
         "12532",
         "TGO",
         "TOGO",
         "AFRICA",
         "SUB-SAHARAN AFRICA",
         "WESTERN AFRICA",
         "2018",
         "60,65",
         "59,83"
        ],
        [
         "2175",
         "CMR",
         "CAMERÚN",
         "AFRICA",
         "SUB-SAHARAN AFRICA",
         "MIDDLE AFRICA",
         "1993",
         "55,53",
         "52,58"
        ]
       ],
       "shape": {
        "columns": 8,
        "rows": 10
       }
      },
      "text/html": [
       "<div>\n",
       "<style scoped>\n",
       "    .dataframe tbody tr th:only-of-type {\n",
       "        vertical-align: middle;\n",
       "    }\n",
       "\n",
       "    .dataframe tbody tr th {\n",
       "        vertical-align: top;\n",
       "    }\n",
       "\n",
       "    .dataframe thead th {\n",
       "        text-align: right;\n",
       "    }\n",
       "</style>\n",
       "<table border=\"1\" class=\"dataframe\">\n",
       "  <thead>\n",
       "    <tr style=\"text-align: right;\">\n",
       "      <th></th>\n",
       "      <th>country_code</th>\n",
       "      <th>country_name</th>\n",
       "      <th>region</th>\n",
       "      <th>sub-region</th>\n",
       "      <th>intermediate-region</th>\n",
       "      <th>year</th>\n",
       "      <th>life_expectancy_women</th>\n",
       "      <th>life_expectancy_men</th>\n",
       "    </tr>\n",
       "  </thead>\n",
       "  <tbody>\n",
       "    <tr>\n",
       "      <th>11349</th>\n",
       "      <td>SEN</td>\n",
       "      <td>SENEGAL</td>\n",
       "      <td>AFRICA</td>\n",
       "      <td>SUB-SAHARAN AFRICA</td>\n",
       "      <td>WESTERN AFRICA</td>\n",
       "      <td>1969</td>\n",
       "      <td>40,59</td>\n",
       "      <td>40,31</td>\n",
       "    </tr>\n",
       "    <tr>\n",
       "      <th>4635</th>\n",
       "      <td>GHA</td>\n",
       "      <td>GHANA</td>\n",
       "      <td>AFRICA</td>\n",
       "      <td>SUB-SAHARAN AFRICA</td>\n",
       "      <td>WESTERN AFRICA</td>\n",
       "      <td>1996</td>\n",
       "      <td>57,92</td>\n",
       "      <td>55,72</td>\n",
       "    </tr>\n",
       "    <tr>\n",
       "      <th>5630</th>\n",
       "      <td>IDN</td>\n",
       "      <td>INDONESIA</td>\n",
       "      <td>ASIA</td>\n",
       "      <td>SOUTH-EASTERN ASIA</td>\n",
       "      <td>NaN</td>\n",
       "      <td>1983</td>\n",
       "      <td>62,05</td>\n",
       "      <td>58,56</td>\n",
       "    </tr>\n",
       "    <tr>\n",
       "      <th>2938</th>\n",
       "      <td>CRI</td>\n",
       "      <td>COSTA RICA</td>\n",
       "      <td>AMERICAS</td>\n",
       "      <td>LATIN AMERICA AND THE CARIBBEAN</td>\n",
       "      <td>CENTRAL AMERICA</td>\n",
       "      <td>2000</td>\n",
       "      <td>80,04</td>\n",
       "      <td>75,25</td>\n",
       "    </tr>\n",
       "    <tr>\n",
       "      <th>2456</th>\n",
       "      <td>CHN</td>\n",
       "      <td>CHINA</td>\n",
       "      <td>ASIA</td>\n",
       "      <td>EASTERN ASIA</td>\n",
       "      <td>NaN</td>\n",
       "      <td>2022</td>\n",
       "      <td>81,34</td>\n",
       "      <td>75,96</td>\n",
       "    </tr>\n",
       "    <tr>\n",
       "      <th>9670</th>\n",
       "      <td>PRY</td>\n",
       "      <td>PARAGUAY</td>\n",
       "      <td>AMERICAS</td>\n",
       "      <td>LATIN AMERICA AND THE CARIBBEAN</td>\n",
       "      <td>SOUTH AMERICA</td>\n",
       "      <td>1991</td>\n",
       "      <td>70,08</td>\n",
       "      <td>66,35</td>\n",
       "    </tr>\n",
       "    <tr>\n",
       "      <th>6263</th>\n",
       "      <td>SLB</td>\n",
       "      <td>ISLAS SALOMÓN</td>\n",
       "      <td>OCEANIA</td>\n",
       "      <td>MELANESIA</td>\n",
       "      <td>NaN</td>\n",
       "      <td>1986</td>\n",
       "      <td>66,93</td>\n",
       "      <td>61,41</td>\n",
       "    </tr>\n",
       "    <tr>\n",
       "      <th>1826</th>\n",
       "      <td>BGR</td>\n",
       "      <td>BULGARIA</td>\n",
       "      <td>EUROPE</td>\n",
       "      <td>EASTERN EUROPE</td>\n",
       "      <td>NaN</td>\n",
       "      <td>2022</td>\n",
       "      <td>78,10</td>\n",
       "      <td>70,80</td>\n",
       "    </tr>\n",
       "    <tr>\n",
       "      <th>12532</th>\n",
       "      <td>TGO</td>\n",
       "      <td>TOGO</td>\n",
       "      <td>AFRICA</td>\n",
       "      <td>SUB-SAHARAN AFRICA</td>\n",
       "      <td>WESTERN AFRICA</td>\n",
       "      <td>2018</td>\n",
       "      <td>60,65</td>\n",
       "      <td>59,83</td>\n",
       "    </tr>\n",
       "    <tr>\n",
       "      <th>2175</th>\n",
       "      <td>CMR</td>\n",
       "      <td>CAMERÚN</td>\n",
       "      <td>AFRICA</td>\n",
       "      <td>SUB-SAHARAN AFRICA</td>\n",
       "      <td>MIDDLE AFRICA</td>\n",
       "      <td>1993</td>\n",
       "      <td>55,53</td>\n",
       "      <td>52,58</td>\n",
       "    </tr>\n",
       "  </tbody>\n",
       "</table>\n",
       "</div>"
      ],
      "text/plain": [
       "      country_code   country_name    region                       sub-region  \\\n",
       "11349          SEN        SENEGAL    AFRICA               SUB-SAHARAN AFRICA   \n",
       "4635           GHA          GHANA    AFRICA               SUB-SAHARAN AFRICA   \n",
       "5630           IDN      INDONESIA      ASIA               SOUTH-EASTERN ASIA   \n",
       "2938           CRI     COSTA RICA  AMERICAS  LATIN AMERICA AND THE CARIBBEAN   \n",
       "2456           CHN          CHINA      ASIA                     EASTERN ASIA   \n",
       "9670           PRY       PARAGUAY  AMERICAS  LATIN AMERICA AND THE CARIBBEAN   \n",
       "6263           SLB  ISLAS SALOMÓN   OCEANIA                        MELANESIA   \n",
       "1826           BGR       BULGARIA    EUROPE                   EASTERN EUROPE   \n",
       "12532          TGO           TOGO    AFRICA               SUB-SAHARAN AFRICA   \n",
       "2175           CMR        CAMERÚN    AFRICA               SUB-SAHARAN AFRICA   \n",
       "\n",
       "      intermediate-region  year life_expectancy_women life_expectancy_men  \n",
       "11349      WESTERN AFRICA  1969                 40,59               40,31  \n",
       "4635       WESTERN AFRICA  1996                 57,92               55,72  \n",
       "5630                  NaN  1983                 62,05               58,56  \n",
       "2938      CENTRAL AMERICA  2000                 80,04               75,25  \n",
       "2456                  NaN  2022                 81,34               75,96  \n",
       "9670        SOUTH AMERICA  1991                 70,08               66,35  \n",
       "6263                  NaN  1986                 66,93               61,41  \n",
       "1826                  NaN  2022                 78,10               70,80  \n",
       "12532      WESTERN AFRICA  2018                 60,65               59,83  \n",
       "2175        MIDDLE AFRICA  1993                 55,53               52,58  "
      ]
     },
     "metadata": {},
     "output_type": "display_data"
    }
   ],
   "source": [
    "# Display the many examples of life expectancy\n",
    "\n",
    "df_sample = df_main.sample(10)\n",
    "display(df_sample)"
   ]
  },
  {
   "cell_type": "code",
   "execution_count": 11,
   "metadata": {},
   "outputs": [
    {
     "name": "stdout",
     "output_type": "stream",
     "text": [
      "Index(['country_code', 'country_name', 'region', 'year',\n",
      "       'life_expectancy_women', 'life_expectancy_men'],\n",
      "      dtype='object')\n"
     ]
    }
   ],
   "source": [
    "# delete many columns\n",
    "cols = [\"sub-region\", \"intermediate-region\"]\n",
    "df_main = df_main.drop(cols, axis=1)\n",
    "\n",
    "# Display columns\n",
    "print(df_main.columns)"
   ]
  }
 ],
 "metadata": {
  "kernelspec": {
   "display_name": "Python 3",
   "language": "python",
   "name": "python3"
  },
  "language_info": {
   "codemirror_mode": {
    "name": "ipython",
    "version": 3
   },
   "file_extension": ".py",
   "mimetype": "text/x-python",
   "name": "python",
   "nbconvert_exporter": "python",
   "pygments_lexer": "ipython3",
   "version": "3.11.3"
  }
 },
 "nbformat": 4,
 "nbformat_minor": 2
}
