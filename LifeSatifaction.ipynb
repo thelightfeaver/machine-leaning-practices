{
 "cells": [
  {
   "cell_type": "code",
   "execution_count": null,
   "metadata": {},
   "outputs": [],
   "source": [
    "%pip install matplotlib\n",
    "%pip install numpy\n",
    "%pip install pandas\n",
    "%pip install scikit-learn\n",
    "%pip install requests"
   ]
  },
  {
   "cell_type": "code",
   "execution_count": null,
   "metadata": {},
   "outputs": [],
   "source": [
    "# Import libraries\n",
    "import matplotlib.pyplot as plt\n",
    "import numpy as np\n",
    "import pandas as pd\n",
    "from sklearn.linear_model import LinearRegression\n",
    "from sklearn.neighbors import KNeighborsRegressor"
   ]
  },
  {
   "cell_type": "code",
   "execution_count": null,
   "metadata": {},
   "outputs": [],
   "source": [
    "# Variables\n",
    "X_NEW = [[22587]]\n",
    "\n",
    "# Download the data\n",
    "data_root = 'https://github.com/ageron/data/raw/main/'\n",
    "df = pd.read_csv(data_root+ 'lifesat/lifesat.csv')"
   ]
  },
  {
   "cell_type": "code",
   "execution_count": null,
   "metadata": {},
   "outputs": [],
   "source": [
    "# Prepare the data\n",
    "df = df.rename(columns={'Life satisfaction':'LS', 'GDP per capita (USD)':'GDP'})\n",
    "x = df[['GDP']]\n",
    "y = df[['LS']]"
   ]
  },
  {
   "cell_type": "code",
   "execution_count": null,
   "metadata": {},
   "outputs": [],
   "source": [
    "# visualize the data\n",
    "df.plot(kind='scatter', \n",
    "        grid=True,\n",
    "        x='GDP', \n",
    "        y='LS', \n",
    "        title='Life Satisfaction vs GDP Per Capital')\n",
    "\n",
    "plt.show()"
   ]
  },
  {
   "cell_type": "code",
   "execution_count": null,
   "metadata": {},
   "outputs": [],
   "source": [
    "# Select a model linear regression\n",
    "model_lr = LinearRegression()\n",
    "\n",
    "# Train the model\n",
    "model_lr.fit(x, y)\n",
    "\n",
    "# Select a model KNN\n",
    "model_kn = KNeighborsRegressor(n_neighbors=3)\n",
    "\n",
    "# Train the model\n",
    "model_kn.fit(x, y)\n",
    "\n",
    "# Comparation between models\n",
    "print('Linear Regression',model_lr.predict(X_NEW))\n",
    "print('Kneighbors Regression', model_kn.predict(X_NEW))\n"
   ]
  }
 ],
 "metadata": {
  "kernelspec": {
   "display_name": "Python 3",
   "language": "python",
   "name": "python3"
  },
  "language_info": {
   "codemirror_mode": {
    "name": "ipython",
    "version": 3
   },
   "file_extension": ".py",
   "mimetype": "text/x-python",
   "name": "python",
   "nbconvert_exporter": "python",
   "pygments_lexer": "ipython3",
   "version": "3.11.3"
  }
 },
 "nbformat": 4,
 "nbformat_minor": 2
}
